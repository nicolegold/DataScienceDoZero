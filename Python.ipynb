{
  "nbformat": 4,
  "nbformat_minor": 0,
  "metadata": {
    "colab": {
      "name": "1 Copy of Python.ipynb",
      "provenance": [],
      "collapsed_sections": [],
      "include_colab_link": true
    },
    "kernelspec": {
      "name": "python3",
      "display_name": "Python 3"
    }
  },
  "cells": [
    {
      "cell_type": "markdown",
      "metadata": {
        "id": "view-in-github",
        "colab_type": "text"
      },
      "source": [
        "<a href=\"https://colab.research.google.com/github/nicolegold/DataScienceDoZero/blob/master/Python.ipynb\" target=\"_parent\"><img src=\"https://colab.research.google.com/assets/colab-badge.svg\" alt=\"Open In Colab\"/></a>"
      ]
    },
    {
      "cell_type": "markdown",
      "metadata": {
        "id": "5hh0PMqZBHax",
        "colab_type": "text"
      },
      "source": [
        "# AQUECE MARATONA 2020! \n",
        "\n",
        "*   LOTE 2 ( 102,00 ) https://www.qoda.com.br/maratona-data-science-pre-venda/\n",
        "*   LOTE 3 ( 222,00 )\n",
        "*   LOTE FINAL ( 992,00 )\n",
        "\n",
        "\n",
        "\n",
        "\n",
        "---\n",
        "![](https://www.qoda.com.br/wp-content/uploads/2020/02/timeline-maratona.png)\n",
        "\n",
        "\n",
        "---\n",
        "\n",
        "*   LOTE 2 ( 102,00 ) https://www.qoda.com.br/maratona-data-science-pre-venda/\n",
        "*   LOTE 3 ( 222,00 )\n",
        "*   LOTE FINAL ( 992,00 )\n"
      ]
    },
    {
      "cell_type": "markdown",
      "metadata": {
        "id": "l16RNmVia3Gq",
        "colab_type": "text"
      },
      "source": [
        "# Python\n",
        "\n",
        "---\n",
        "\n"
      ]
    },
    {
      "cell_type": "markdown",
      "metadata": {
        "id": "blkXmaN4bwzU",
        "colab_type": "text"
      },
      "source": [
        "## Seu primeiro programa 🐣"
      ]
    },
    {
      "cell_type": "code",
      "metadata": {
        "id": "vBNGWECAa0eC",
        "colab_type": "code",
        "outputId": "484104c4-877c-4caf-fbfc-0a63d798a57f",
        "colab": {
          "base_uri": "https://localhost:8080/",
          "height": 51
        }
      },
      "source": [
        "nome = input(\"Qual é o seu nome? \")\n",
        "print(f\"Hello {nome}\")"
      ],
      "execution_count": 0,
      "outputs": [
        {
          "output_type": "stream",
          "text": [
            "Qual é o seu nome? weber\n",
            "Hello weber\n"
          ],
          "name": "stdout"
        }
      ]
    },
    {
      "cell_type": "markdown",
      "metadata": {
        "id": "fF86Y11CcH-t",
        "colab_type": "text"
      },
      "source": [
        "## Operadores\n",
        "![alt text](https://slideplayer.com.br/slide/3288719/11/images/10/Python+%2B+Soma+-+Subtra%C3%A7%C3%A3o+%2A+Multiplica%C3%A7%C3%A3o+%2F+Divis%C3%A3o+%2A%2A+Potencia%C3%A7%C3%A3o+%25.jpg)"
      ]
    },
    {
      "cell_type": "code",
      "metadata": {
        "id": "9KiF8V3ocQZM",
        "colab_type": "code",
        "outputId": "b978a39c-5b7b-4f63-baba-24a332b1f366",
        "colab": {
          "base_uri": "https://localhost:8080/",
          "height": 34
        }
      },
      "source": [
        "# SOMA\n",
        "1+1"
      ],
      "execution_count": 0,
      "outputs": [
        {
          "output_type": "execute_result",
          "data": {
            "text/plain": [
              "2"
            ]
          },
          "metadata": {
            "tags": []
          },
          "execution_count": 2
        }
      ]
    },
    {
      "cell_type": "code",
      "metadata": {
        "id": "LX-sHjk2cS_m",
        "colab_type": "code",
        "outputId": "d65d7e43-edac-436b-c7bf-f10e53ea62eb",
        "colab": {
          "base_uri": "https://localhost:8080/",
          "height": 34
        }
      },
      "source": [
        "# SUBTRAÇÃO\n",
        "1-1"
      ],
      "execution_count": 0,
      "outputs": [
        {
          "output_type": "execute_result",
          "data": {
            "text/plain": [
              "0"
            ]
          },
          "metadata": {
            "tags": []
          },
          "execution_count": 3
        }
      ]
    },
    {
      "cell_type": "code",
      "metadata": {
        "id": "4E7cwx1OcU9R",
        "colab_type": "code",
        "outputId": "363ea184-7cbc-4265-b575-a20b384506b3",
        "colab": {
          "base_uri": "https://localhost:8080/",
          "height": 34
        }
      },
      "source": [
        "# MULTIPLICAÇÃO\n",
        "1*10"
      ],
      "execution_count": 0,
      "outputs": [
        {
          "output_type": "execute_result",
          "data": {
            "text/plain": [
              "10"
            ]
          },
          "metadata": {
            "tags": []
          },
          "execution_count": 4
        }
      ]
    },
    {
      "cell_type": "code",
      "metadata": {
        "id": "fPVGehO0cXAn",
        "colab_type": "code",
        "outputId": "46046369-8545-4588-f2c6-b83e47c6d9a0",
        "colab": {
          "base_uri": "https://localhost:8080/",
          "height": 34
        }
      },
      "source": [
        "# DIVISÃO\n",
        "100 % 3"
      ],
      "execution_count": 0,
      "outputs": [
        {
          "output_type": "execute_result",
          "data": {
            "text/plain": [
              "1"
            ]
          },
          "metadata": {
            "tags": []
          },
          "execution_count": 6
        }
      ]
    },
    {
      "cell_type": "code",
      "metadata": {
        "id": "4G7MTi1IcZ1K",
        "colab_type": "code",
        "outputId": "f8440990-7892-44f8-e576-0920f4b0ac8e",
        "colab": {
          "base_uri": "https://localhost:8080/",
          "height": 34
        }
      },
      "source": [
        "# EXPONENCIAÇÃO\n",
        "4**2"
      ],
      "execution_count": 0,
      "outputs": [
        {
          "output_type": "execute_result",
          "data": {
            "text/plain": [
              "16"
            ]
          },
          "metadata": {
            "tags": []
          },
          "execution_count": 8
        }
      ]
    },
    {
      "cell_type": "code",
      "metadata": {
        "id": "5WZgLLHDdCcx",
        "colab_type": "code",
        "colab": {}
      },
      "source": [
        "# DESAFIO PYTHON FEITO POR MIM\n",
        "# Tendo como dados de entrada a altura de uma pessoa, construa um algoritmo que calcule seu peso ideal, usando a seguinte fórmula: (72.7*altura) - 58\n",
        "\n",
        "altura = float(input(\"Qual sua altura?\"))\n",
        "print(altura)\n",
        "\n",
        "pesoideal = (72.7 * altura) -58\n",
        "print(pesoideal)"
      ],
      "execution_count": 0,
      "outputs": []
    },
    {
      "cell_type": "code",
      "metadata": {
        "id": "vRLzjjD3bI4b",
        "colab_type": "code",
        "outputId": "900553f9-0e4c-43b1-a7a6-bed89c8712fe",
        "colab": {
          "base_uri": "https://localhost:8080/",
          "height": 51
        }
      },
      "source": [
        "# DESAFIO PYTHON FEITO POR OUTRO\n",
        "altura = input('Digite a sua altura: ')\n",
        "peso = (72.7 * float(altura)) - 58 # Passando a variável *altura* de string or int para float\n",
        "print('O seu peso ideal é %.2f ' % peso) # %.2f faz com que seja apenas 2 casas decimais no final, ligando % a variável *peso*"
      ],
      "execution_count": 0,
      "outputs": [
        {
          "output_type": "stream",
          "text": [
            "Digite a sua altura: 1.8\n",
            "O seu peso ideal é 72.86 \n"
          ],
          "name": "stdout"
        }
      ]
    },
    {
      "cell_type": "markdown",
      "metadata": {
        "id": "xQCkO867cpu1",
        "colab_type": "text"
      },
      "source": [
        "## Condicionais"
      ]
    },
    {
      "cell_type": "code",
      "metadata": {
        "id": "1dccn0dLcsG2",
        "colab_type": "code",
        "outputId": "2d20b82d-711a-43de-d01d-91dd2a43ff99",
        "colab": {
          "base_uri": "https://localhost:8080/",
          "height": 34
        }
      },
      "source": [
        "# IF\n",
        "if 100 > 99:\n",
        "  print(\"100 é maior que 99!\")"
      ],
      "execution_count": 0,
      "outputs": [
        {
          "output_type": "stream",
          "text": [
            "100 é maior que 99!\n"
          ],
          "name": "stdout"
        }
      ]
    },
    {
      "cell_type": "code",
      "metadata": {
        "id": "k56YVoZIddjj",
        "colab_type": "code",
        "outputId": "88903abe-f88b-4912-9ff5-b2339acd0915",
        "colab": {
          "base_uri": "https://localhost:8080/",
          "height": 34
        }
      },
      "source": [
        "# IF, ELSE\n",
        "if 100 == 99:\n",
        "  print(\"100 e 99 são iguais!\")\n",
        "else:\n",
        "  print(\"100 é diferente de 99\")\n"
      ],
      "execution_count": 0,
      "outputs": [
        {
          "output_type": "stream",
          "text": [
            "100 é diferente de 99\n"
          ],
          "name": "stdout"
        }
      ]
    },
    {
      "cell_type": "code",
      "metadata": {
        "id": "VM88dXCpdfpa",
        "colab_type": "code",
        "outputId": "cbb1921c-6cfc-45e5-a9ff-e625af8654a9",
        "colab": {
          "base_uri": "https://localhost:8080/",
          "height": 34
        }
      },
      "source": [
        "# IF, ELIF, ELSE\n",
        "if 100 == 99:\n",
        "  print(\"100 e 99 são iguais!\")\n",
        "elif 100 > 99:\n",
        "  print(\"100 é maior que 99!\")\n",
        "else:\n",
        "  print(\"100 é menor que 99!\")"
      ],
      "execution_count": 0,
      "outputs": [
        {
          "output_type": "stream",
          "text": [
            "100 é maior que 99!\n"
          ],
          "name": "stdout"
        }
      ]
    },
    {
      "cell_type": "code",
      "metadata": {
        "id": "gtOpJ0BfhQPa",
        "colab_type": "code",
        "colab": {}
      },
      "source": [
        "# DESAFIO CONDICIONAIS FEITO POR MIM\n",
        "# Faça um Programa que pergunte em que turno você estuda. Peça para digitar M-matutino ou V-Vespertino ou N- Noturno. Imprima a mensagem \"Bom Dia!\", \"Boa Tarde!\" ou \"Boa Noite!\" ou \"Valor Inválido!\", conforme o caso.\n",
        "Turno = str(input(\"Em que turno você estuda?\\n Digite M se matutino\\n Digite V se vespertino \\n Digite N se noturno \"))\n",
        "print(Turno)\n",
        "\n",
        "if Turno == \"M\":\n",
        "  print(\"Bom Dia!\")\n",
        "elif Turno == \"V\":\n",
        "  print(\"Boa Tarde!\")\n",
        "elif Turno == \"N\":\n",
        "  print(\"Boa Noite!\")\n",
        "else:\n",
        "  print('Valor inválido!')"
      ],
      "execution_count": 0,
      "outputs": []
    },
    {
      "cell_type": "code",
      "metadata": {
        "id": "eRojABEjbdxX",
        "colab_type": "code",
        "colab": {}
      },
      "source": [
        "# DESAFIO CONDICIONAIS FEITO POR OUTRO\n",
        "# Faça um Programa que pergunte em que turno você estuda. Peça para digitar M-matutino ou V-Vespertino ou N- Noturno. Imprima a mensagem \"Bom Dia!\", \"Boa Tarde!\" ou \"Boa Noite!\" ou \"Valor Inválido!\", conforme o caso.\n",
        "\n",
        "print('Turnos:\\nM: Matutino, V: Vespertino ou N: Noturno \\n') # \\n faz quebrar a linha, colocando os proximos textos abaixo\n",
        "turno = input('Digite o seu turno: ')\n",
        "\n",
        "if(turno.lower() == 'm'): # .lower() na variável *turno* pega o que você escreveu e coloca tudo minúsculo\n",
        "  print('Bom dia!')\n",
        "elif(turno.lower() == 'v'):\n",
        "  print('Boa tarde!')\n",
        "elif(turno.lower() == 'n'):\n",
        "  print('Boa noite!')\n",
        "else:\n",
        "  print('Valor inválido!')"
      ],
      "execution_count": 0,
      "outputs": []
    },
    {
      "cell_type": "markdown",
      "metadata": {
        "id": "fc85ML8bcsbR",
        "colab_type": "text"
      },
      "source": [
        "## Repetição"
      ]
    },
    {
      "cell_type": "code",
      "metadata": {
        "id": "Nfb90GWEcuRU",
        "colab_type": "code",
        "outputId": "3164c173-eff2-4db4-ca9a-91011c411078",
        "colab": {
          "base_uri": "https://localhost:8080/",
          "height": 119
        }
      },
      "source": [
        "# FOR\n",
        "for x in range(0,12,2):\n",
        "  print(x)"
      ],
      "execution_count": 0,
      "outputs": [
        {
          "output_type": "stream",
          "text": [
            "0\n",
            "2\n",
            "4\n",
            "6\n",
            "8\n",
            "10\n"
          ],
          "name": "stdout"
        }
      ]
    },
    {
      "cell_type": "code",
      "metadata": {
        "id": "-xotKE8ShlRy",
        "colab_type": "code",
        "outputId": "0353fff3-e2e3-4f6a-c884-c386d594ee00",
        "colab": {
          "base_uri": "https://localhost:8080/",
          "height": 136
        }
      },
      "source": [
        "palavra = \"PALAVRA\"\n",
        "for letra in palavra:\n",
        "  print(letra)"
      ],
      "execution_count": 0,
      "outputs": [
        {
          "output_type": "stream",
          "text": [
            "P\n",
            "A\n",
            "L\n",
            "A\n",
            "V\n",
            "R\n",
            "A\n"
          ],
          "name": "stdout"
        }
      ]
    },
    {
      "cell_type": "code",
      "metadata": {
        "id": "a4X4aY2Xhem0",
        "colab_type": "code",
        "colab": {}
      },
      "source": [
        "# WHILE\n",
        "num = 0\n",
        "while True:\n",
        "       print(num)\n",
        "       num   = num + 1"
      ],
      "execution_count": 0,
      "outputs": []
    },
    {
      "cell_type": "code",
      "metadata": {
        "id": "sWINJQ81dThC",
        "colab_type": "code",
        "colab": {}
      },
      "source": [
        "# DESAFIO REPETIÇÃO\n",
        "# A série de Fibonacci é formada pela seqüência 1,1,2,3,5,8,13,21,34,55,... Faça um programa capaz de gerar a série até o n−ésimo termo.\n",
        "# qual numero voce deseja receber a sequencia fibonacci? 34\n",
        "\n",
        "numero = int(input(\"Qual número você deseja receber a sequência Fibonacci?\\n\"))\n",
        "ultimo = 1\n",
        "penultimo = 1\n",
        "\n",
        "if (numero == 1) or (numero == 2):\n",
        "  print(\"1\")\n",
        "\n",
        "else:\n",
        "  count = 3 \n",
        "  while count <= numero:\n",
        "     sequencia = ultimo + penultimo\n",
        "     penultimo = ultimo\n",
        "     ultimo = sequencia\n",
        "     count += 1\n",
        "\n",
        "print(sequencia)\n",
        "\n",
        "# A variável que vai ficar responsável pela contagem de iterações é a count. \n",
        "#Ela se inicia valendo 3, pois já temos os dois valores iniciais da sequência (1 e 1) e vamos calcular em seguida o terceiro termo.\n"
      ],
      "execution_count": 0,
      "outputs": []
    },
    {
      "cell_type": "code",
      "metadata": {
        "id": "s-oIkV5VgzqP",
        "colab_type": "code",
        "outputId": "0a93e064-6e75-4d7b-8c7a-8de256936697",
        "colab": {
          "base_uri": "https://localhost:8080/",
          "height": 51
        }
      },
      "source": [
        "n = int(input(\"Que termo deseja encontrar: \"))\n",
        "ultimo=1\n",
        "penultimo=1\n",
        "\n",
        "if (n==1) or (n==2):\n",
        "    print(\"1\")\n",
        "else:\n",
        "    for count in range(2,n):\n",
        "        termo = ultimo + penultimo\n",
        "        penultimo = ultimo\n",
        "        ultimo = termo\n",
        "        count += 1\n",
        "    print(termo)"
      ],
      "execution_count": 0,
      "outputs": [
        {
          "output_type": "stream",
          "text": [
            "Que termo deseja encontrar: 55\n",
            "139583862445\n"
          ],
          "name": "stdout"
        }
      ]
    },
    {
      "cell_type": "code",
      "metadata": {
        "id": "pEegN65Lc8p3",
        "colab_type": "code",
        "outputId": "7e30d926-9ba6-43c5-c9fb-b33b2c30f3cb",
        "colab": {
          "base_uri": "https://localhost:8080/",
          "height": 51
        }
      },
      "source": [
        "# DESAFIO FUNÇÕES FEITO POR OUTRO\n",
        "\n",
        "n = int(input(\"Qual número você deseja receber a sequência fibonacci: \"))\n",
        "# inicializando as variáveis com esses valores para não quebrar a lógica inicial da sequência\n",
        "anterior = 0\n",
        "proxima = 1\n",
        "soma = 1\n",
        "\n",
        "for count in range(0, n):\n",
        "  soma = proxima + anterior\n",
        "  anterior = proxima\n",
        "  proxima = soma\n",
        "  if(anterior <= n): print(anterior, end=' ') # end=' ' da um espaço entre os números e pritam um ao lado do outro\n",
        "  else: break # se a variável *anterior* for menor ou igual ao número que você colocar o código da break, ou seja, para/quebra o loop do for"
      ],
      "execution_count": 0,
      "outputs": [
        {
          "output_type": "stream",
          "text": [
            "Qual número você deseja receber a sequência fibonacci: 55\n",
            "1 1 2 3 5 8 13 21 34 55 "
          ],
          "name": "stdout"
        }
      ]
    },
    {
      "cell_type": "markdown",
      "metadata": {
        "id": "lm-dZvAocvaa",
        "colab_type": "text"
      },
      "source": [
        "## Funções"
      ]
    },
    {
      "cell_type": "code",
      "metadata": {
        "id": "vfQJFzuncxuz",
        "colab_type": "code",
        "outputId": "a2fa5ce2-cffe-4935-b7f5-1cf41dc8bbad",
        "colab": {
          "base_uri": "https://localhost:8080/",
          "height": 136
        }
      },
      "source": [
        "palavra = \"PALAVRA\"\n",
        "palavra.upper()"
      ],
      "execution_count": 0,
      "outputs": [
        {
          "output_type": "stream",
          "text": [
            "Help on method_descriptor:\n",
            "\n",
            "upper(...)\n",
            "    S.upper() -> str\n",
            "    \n",
            "    Return a copy of S converted to uppercase.\n",
            "\n"
          ],
          "name": "stdout"
        }
      ]
    },
    {
      "cell_type": "code",
      "metadata": {
        "id": "BkpGqILGjjzE",
        "colab_type": "code",
        "colab": {}
      },
      "source": [
        "def RaizQuadrada(x):\n",
        "  return x**2"
      ],
      "execution_count": 0,
      "outputs": []
    },
    {
      "cell_type": "code",
      "metadata": {
        "id": "n953bAgMju_J",
        "colab_type": "code",
        "outputId": "ab005463-c7e9-4905-f4ce-0333ae551f84",
        "colab": {
          "base_uri": "https://localhost:8080/",
          "height": 34
        }
      },
      "source": [
        "RaizQuadrada(2)"
      ],
      "execution_count": 0,
      "outputs": [
        {
          "output_type": "execute_result",
          "data": {
            "text/plain": [
              "4"
            ]
          },
          "metadata": {
            "tags": []
          },
          "execution_count": 31
        }
      ]
    },
    {
      "cell_type": "code",
      "metadata": {
        "id": "IWE_rUvBigeT",
        "colab_type": "code",
        "colab": {}
      },
      "source": [
        "# DESAFIO FUNÇÕES FEITO POR MIM\n",
        "# Reverso do número. Faça uma função que retorne o reverso de um número inteiro informado. Por exemplo: 127 -> 721.\n",
        "\n",
        "numero = input(\"Informe um numero:\\n\")\n",
        "reversed(numero)\n",
        "for reverso in reversed(numero):\n",
        "  print(reverso)"
      ],
      "execution_count": 0,
      "outputs": []
    },
    {
      "cell_type": "code",
      "metadata": {
        "id": "kDtuopwDdajD",
        "colab_type": "code",
        "outputId": "dad090fd-b482-4759-aedc-d17e504001d1",
        "colab": {
          "base_uri": "https://localhost:8080/",
          "height": 51
        }
      },
      "source": [
        "# DESAFIO FUNÇÕES FEITO POR OUTRO\n",
        "# Reverso do número. Faça uma função que retorne o reverso de um número inteiro informado. Por exemplo: 127 -> 721.\n",
        "\n",
        "def reverso(x):\n",
        "   return x[::-1] # começa do final para o início, pegando cada elemento da string / fonte: https://docs.python.org/2.3/whatsnew/section-slices.html\n",
        "num = input(\"Digite o número que deseja ver em sua forma reversa: \")\n",
        "reverso(num) # chamando a função com o parametro x sendo num, que é o numero que você digitou"
      ],
      "execution_count": 0,
      "outputs": [
        {
          "output_type": "stream",
          "text": [
            "Digite o número que deseja ver em sua forma reversa: 12\n"
          ],
          "name": "stdout"
        },
        {
          "output_type": "execute_result",
          "data": {
            "text/plain": [
              "'21'"
            ]
          },
          "metadata": {
            "tags": []
          },
          "execution_count": 5
        }
      ]
    }
  ]
}