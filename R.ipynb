{
  "nbformat": 4,
  "nbformat_minor": 0,
  "metadata": {
    "colab": {
      "name": "4 Copy of R.ipynb",
      "provenance": [],
      "collapsed_sections": [],
      "include_colab_link": true
    },
    "kernelspec": {
      "name": "ir",
      "display_name": "R"
    }
  },
  "cells": [
    {
      "cell_type": "markdown",
      "metadata": {
        "id": "view-in-github",
        "colab_type": "text"
      },
      "source": [
        "<a href=\"https://colab.research.google.com/github/nicolegold/DataScienceDoZero/blob/master/R.ipynb\" target=\"_parent\"><img src=\"https://colab.research.google.com/assets/colab-badge.svg\" alt=\"Open In Colab\"/></a>"
      ]
    },
    {
      "cell_type": "markdown",
      "metadata": {
        "id": "jUfZy-gGi-3N",
        "colab_type": "text"
      },
      "source": [
        "# AQUECE MARATONA 2020! \n",
        "\n",
        "*   LOTE 2 ( 102,00 ) https://www.qoda.com.br/maratona-data-science-pre-venda/\n",
        "*   LOTE 3 ( 222,00 )\n",
        "*   LOTE FINAL ( 992,00 )\n",
        "\n",
        "\n",
        "\n",
        "\n",
        "---\n",
        "![](https://www.qoda.com.br/wp-content/uploads/2020/02/timeline-maratona.png)\n",
        "\n",
        "\n",
        "---\n",
        "\n",
        "*   LOTE 2 ( 102,00 ) https://www.qoda.com.br/maratona-data-science-pre-venda/\n",
        "*   LOTE 3 ( 222,00 )\n",
        "*   LOTE FINAL ( 992,00 )\n"
      ]
    },
    {
      "cell_type": "markdown",
      "metadata": {
        "id": "vyvMJIsGjBl3",
        "colab_type": "text"
      },
      "source": [
        "#R: o básico\n",
        "\n",
        "---\n",
        "\n",
        "Vantagens R:\n",
        "* Open-Source: gratuito e com comunidade cada vez maior e mais ativa;\n",
        "* Com uma grande comunidade por conta do fenômeno Open Source, surgem milhares de bibliotecas gratuitas para uso;\n",
        "* Multi-plataforma: Windows, Mac, Linux…\n",
        "* Já falamos que é requisito para a “profissão mais sexy do século” ?<br><br>\n",
        "![Ranking das Linguagens de Programação e suas aplicações do IEE SPECTRUM\n",
        "](https://secureservercdn.net/198.71.233.197/o9y.9a5.myftpupload.com/wp-content/uploads/ranking-linguagens.png)"
      ]
    },
    {
      "cell_type": "markdown",
      "metadata": {
        "id": "hpsfUcvUjDqu",
        "colab_type": "text"
      },
      "source": [
        "## AMBIENTE DE DESENVOLVIMENTO\n",
        "\n",
        "---\n",
        "\n",
        "\n",
        "* ANACONDA em https://www.anaconda.com/distribution/\n",
        "* Efetue download/instalação do R em https://cloud.r-project.org/\n",
        "\n",
        "* Efetue download/instalação do RStudio(IDE para programarmos com R) em https://www.rstudio.com/products/rstudio/download/\n",
        "* Novo projeto R com Colab https://colab.research.google.com/notebook#create=true&language=r"
      ]
    },
    {
      "cell_type": "markdown",
      "metadata": {
        "id": "gNCAQsxIjF7P",
        "colab_type": "text"
      },
      "source": [
        "## Declarando variáveis, comentando código e printando na tela:\n",
        "\n",
        "---\n",
        "\n",
        "\n",
        "\n",
        "* Declare variáveis com = ou <-\n",
        "* Utilize # para comentar linhas\n",
        "* Utilize print() para executar na tela\n",
        "* Utilize readline(prompt=”…”) para receber texto(inputs)"
      ]
    },
    {
      "cell_type": "code",
      "metadata": {
        "id": "OQNBcx0Li7o1",
        "colab_type": "code",
        "colab": {}
      },
      "source": [
        "# Você pode declarar variáveis utilizando \"=\" ou \"<-\"\n",
        "x = \"Hello Qoda!\"\n",
        "y <- \"Hello Qoda!\""
      ],
      "execution_count": 0,
      "outputs": []
    },
    {
      "cell_type": "code",
      "metadata": {
        "id": "JCg6rgRejIGd",
        "colab_type": "code",
        "outputId": "36928149-2395-4f51-edc8-be101c1bd32e",
        "colab": {
          "base_uri": "https://localhost:8080/",
          "height": 51
        }
      },
      "source": [
        "z = readline(prompt=\"Qual é o seu nome?\")\n",
        "print(z)"
      ],
      "execution_count": 0,
      "outputs": [
        {
          "output_type": "stream",
          "text": [
            "Qual é o seu nome?Nicole\n",
            "[1] \"Nicole\"\n"
          ],
          "name": "stdout"
        }
      ]
    },
    {
      "cell_type": "markdown",
      "metadata": {
        "id": "zsiwaQcMjKku",
        "colab_type": "text"
      },
      "source": [
        "## Tipos de Dados(básicos)\n",
        "\n",
        "* Character(“Texto”)\n",
        "Neste tipo inserimos caracteres, podendo ser números, textos, símbolos…;\n",
        "* Integer (1L)\n",
        "Integer se refere a números inteiros e utilizamos o “L” para determina-lo, diferente do Numeric, onde os números são decimais: 1.0 e não 1;\n",
        "* Numeric (7.25)\n",
        "Números decimais, mesmo que declarando-os como 12, o sistema retornará 12.0, por exemplo.\n",
        "* Logical (T/F ou TRUE/FALSE)\n",
        "Tipo de dado com retorno TRUE ou FALSE, assim como T ou F. TRUE quando atendidas as condições e FALSE quando não atendidas. Nos aprofundaremos logo logo neste tipo de dado: tenha paciência."
      ]
    },
    {
      "cell_type": "code",
      "metadata": {
        "id": "-k9jU_a1jMDu",
        "colab_type": "code",
        "colab": {}
      },
      "source": [
        "caract = \"Texto caractere\"\n",
        "class(caract) \n",
        "#retorna 'character'"
      ],
      "execution_count": 0,
      "outputs": []
    },
    {
      "cell_type": "code",
      "metadata": {
        "id": "S3OICZHLjNt0",
        "colab_type": "code",
        "colab": {}
      },
      "source": [
        "inteiro = 15L\n",
        "class(inteiro) \n",
        "#retorna 'integer'"
      ],
      "execution_count": 0,
      "outputs": []
    },
    {
      "cell_type": "code",
      "metadata": {
        "id": "V6LV6ektjPDN",
        "colab_type": "code",
        "colab": {}
      },
      "source": [
        "num = 15\n",
        "class(num)\n",
        "#retorna 'numeric'"
      ],
      "execution_count": 0,
      "outputs": []
    },
    {
      "cell_type": "code",
      "metadata": {
        "id": "-F8o6JZIjQcH",
        "colab_type": "code",
        "colab": {}
      },
      "source": [
        "logic = T\n",
        "class(logic)\n",
        "#retorna 'logical'"
      ],
      "execution_count": 0,
      "outputs": []
    },
    {
      "cell_type": "markdown",
      "metadata": {
        "id": "5kKJ6mDEjSVH",
        "colab_type": "text"
      },
      "source": [
        "## Estruturas de Dados\n",
        "\n",
        "---\n",
        "\n"
      ]
    },
    {
      "cell_type": "code",
      "metadata": {
        "id": "6eNtnkLXjSqZ",
        "colab_type": "code",
        "colab": {}
      },
      "source": [
        "# VETOR \n",
        "\n",
        "vec = 3\n",
        "is.vector(vec) #Retorna TRUE"
      ],
      "execution_count": 0,
      "outputs": []
    },
    {
      "cell_type": "code",
      "metadata": {
        "id": "vgwpjAbejUEs",
        "colab_type": "code",
        "colab": {}
      },
      "source": [
        "# Para adicionar diversos elementos em 1 vetor, use c()\n",
        "vec = c(1,2,3,\"texto\")\n",
        "class(vec) #retorna character pois todos elementos serão do mesmo tipo"
      ],
      "execution_count": 0,
      "outputs": []
    },
    {
      "cell_type": "markdown",
      "metadata": {
        "id": "F_tI4aWVjWYB",
        "colab_type": "text"
      },
      "source": [
        "## LISTA \n",
        "\n",
        "\n",
        "---\n",
        "\n"
      ]
    },
    {
      "cell_type": "code",
      "metadata": {
        "id": "uCY0A8O6jXmZ",
        "colab_type": "code",
        "colab": {}
      },
      "source": [
        "x = c(\"texto1\",\"texto2\")\n",
        "y =  c(1,2,3)\n",
        "z = c(T,F,T)\n",
        "lista = c(x,y,z) \n",
        "class(lista)\n",
        "#retorna: 'texto1' 'texto2' '1' '2' '3' 'TRUE' 'FALSE' 'TRUE'"
      ],
      "execution_count": 0,
      "outputs": []
    },
    {
      "cell_type": "markdown",
      "metadata": {
        "id": "bw38lP1IjZWJ",
        "colab_type": "text"
      },
      "source": [
        "## MATRIZ \n",
        "\n",
        "\n",
        "\n",
        "---\n",
        "\n"
      ]
    },
    {
      "cell_type": "code",
      "metadata": {
        "id": "E9FZJAz0jZuP",
        "colab_type": "code",
        "colab": {}
      },
      "source": [
        "mat = matrix(c(1,2),nrow=1,ncol=2,byrow = TRUE) \n",
        "#nrow se refere ao número de colunas e ncol se refere ao número de linhas\n",
        "#byrow insere os elementos dentro de linhas quando TRUE ou em colunas, quando FALSE\n",
        "#retorna: 1 2\n",
        "mat"
      ],
      "execution_count": 0,
      "outputs": []
    },
    {
      "cell_type": "markdown",
      "metadata": {
        "id": "Eu3KI9SujcST",
        "colab_type": "text"
      },
      "source": [
        "## DATAFRAME (estrutura para armazenar em forma de tabela)\n",
        "\n",
        "\n",
        "\n",
        "---\n",
        "\n"
      ]
    },
    {
      "cell_type": "code",
      "metadata": {
        "id": "clHl73wOjcq7",
        "colab_type": "code",
        "colab": {}
      },
      "source": [
        "x = data.frame(nome = c(\"Ana\",\"Weber\",\"Aquiles\"),\n",
        "               idade = c(24L,27L,2L),\n",
        "               salario = c(12000,0,0))\n",
        "#nrow(x) #retorna número de linhas do dataframe\n",
        "#ncol(x) #retorna número de colunas do dataframe\n",
        "dim(x) #retorna número de linhas e colunas"
      ],
      "execution_count": 0,
      "outputs": []
    },
    {
      "cell_type": "markdown",
      "metadata": {
        "id": "zYW4U3TYjf4H",
        "colab_type": "text"
      },
      "source": [
        "## CONDICIONAIS\n",
        "\n",
        "\n",
        "---\n",
        "\n"
      ]
    },
    {
      "cell_type": "code",
      "metadata": {
        "id": "Wd8DWYuOjgKK",
        "colab_type": "code",
        "colab": {}
      },
      "source": [
        "if (3 > 0) {\n",
        " \n",
        "    print(\"3 é maior que 0\")\n",
        " \n",
        "}"
      ],
      "execution_count": 0,
      "outputs": []
    },
    {
      "cell_type": "code",
      "metadata": {
        "id": "pI2-J1dtjiaV",
        "colab_type": "code",
        "colab": {}
      },
      "source": [
        "if (3 == 0) {\n",
        " \n",
        "  print(\"3 = 0\")\n",
        " \n",
        "} else {\n",
        " \n",
        "    print(\"3 não é igual a 0\")\n",
        " \n",
        "}"
      ],
      "execution_count": 0,
      "outputs": []
    },
    {
      "cell_type": "code",
      "metadata": {
        "id": "C3xwyIinjjvs",
        "colab_type": "code",
        "colab": {}
      },
      "source": [
        "a = 1\n",
        "b = 2\n",
        "ifelse(a>0,\"A maior que 0\",\"A menor que 0\")\n",
        "#retorna A maior que 0"
      ],
      "execution_count": 0,
      "outputs": []
    },
    {
      "cell_type": "markdown",
      "metadata": {
        "id": "c6lNLRsNjl6S",
        "colab_type": "text"
      },
      "source": [
        "## FUNÇÕES\n",
        "\n",
        "---\n",
        "\n"
      ]
    },
    {
      "cell_type": "code",
      "metadata": {
        "id": "BgkeGXymjngJ",
        "colab_type": "code",
        "colab": {}
      },
      "source": [
        "# FUNÇÕES R BASE\n",
        "x = c(1,2,3,4,5,6,7,8,9,10)\n",
        "#sd(x) #desvio padrão\n",
        "#mean(x) #média\n",
        "#head(iris) #primeiras linhas dataframe\n",
        "#tail(iris) #ultimas linhas dataframe\n",
        "file.choose() #abre pasta para caminho de arquivos"
      ],
      "execution_count": 0,
      "outputs": []
    },
    {
      "cell_type": "code",
      "metadata": {
        "id": "mbAHOOspjpIm",
        "colab_type": "code",
        "colab": {}
      },
      "source": [
        "raizquadrada = function(x) {\n",
        "  return(x*x)\n",
        "}\n",
        "raizquadrada(4)"
      ],
      "execution_count": 0,
      "outputs": []
    },
    {
      "cell_type": "markdown",
      "metadata": {
        "id": "a6Jtul8Tjq7O",
        "colab_type": "text"
      },
      "source": [
        "## PACOTES\n",
        "\n",
        "---\n",
        "\n"
      ]
    },
    {
      "cell_type": "code",
      "metadata": {
        "id": "BpgCYnlijrKL",
        "colab_type": "code",
        "colab": {}
      },
      "source": [
        "#Instala pacote\n",
        "install.packages(\"ggplot2\", dependencies=TRUE)\n",
        "\n",
        "# Carrega pacote para ser utilizado no código\n",
        "library(ggplot2)"
      ],
      "execution_count": 0,
      "outputs": []
    }
  ]
}