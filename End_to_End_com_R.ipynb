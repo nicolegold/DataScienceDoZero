{
  "nbformat": 4,
  "nbformat_minor": 0,
  "metadata": {
    "colab": {
      "name": "5 Copy of #AqueceMaratona3-End-to-End-com-R.ipynb",
      "provenance": [],
      "private_outputs": true,
      "collapsed_sections": [],
      "include_colab_link": true
    },
    "kernelspec": {
      "name": "ir",
      "display_name": "R"
    },
    "accelerator": "TPU"
  },
  "cells": [
    {
      "cell_type": "markdown",
      "metadata": {
        "id": "view-in-github",
        "colab_type": "text"
      },
      "source": [
        "<a href=\"https://colab.research.google.com/github/nicolegold/DataScienceDoZero/blob/master/End_to_End_com_R.ipynb\" target=\"_parent\"><img src=\"https://colab.research.google.com/assets/colab-badge.svg\" alt=\"Open In Colab\"/></a>"
      ]
    },
    {
      "cell_type": "markdown",
      "metadata": {
        "id": "KpFdhotFeaPF",
        "colab_type": "text"
      },
      "source": [
        "# AQUECE MARATONA 2020! \n",
        "\n",
        "*   LOTE 2 ( 102,00 ) https://www.qoda.com.br/maratona-data-science-pre-venda/\n",
        "*   LOTE 3 ( 222,00 )\n",
        "*   LOTE FINAL ( 992,00 )\n",
        "\n",
        "\n",
        "\n",
        "\n",
        "---\n",
        "![](https://www.qoda.com.br/wp-content/uploads/2020/02/timeline-maratona.png)\n",
        "\n",
        "\n",
        "---\n",
        "\n",
        "*   LOTE 2 ( 102,00 ) https://www.qoda.com.br/maratona-data-science-pre-venda/\n",
        "*   LOTE 3 ( 222,00 )\n",
        "*   LOTE FINAL ( 992,00 )\n"
      ]
    },
    {
      "cell_type": "markdown",
      "metadata": {
        "id": "MFA9Wpf2es2z",
        "colab_type": "text"
      },
      "source": [
        "#R: o básico\n",
        "\n",
        "---\n",
        "\n",
        "Vantagens R:\n",
        "* Open-Source: gratuito e com comunidade cada vez maior e mais ativa;\n",
        "* Com uma grande comunidade por conta do fenômeno Open Source, surgem milhares de bibliotecas gratuitas para uso;\n",
        "* Multi-plataforma: Windows, Mac, Linux…\n",
        "* Já falamos que é requisito para a “profissão mais sexy do século” ?<br><br>\n",
        "![Ranking das Linguagens de Programação e suas aplicações do IEE SPECTRUM\n",
        "](https://secureservercdn.net/198.71.233.197/o9y.9a5.myftpupload.com/wp-content/uploads/ranking-linguagens.png)"
      ]
    },
    {
      "cell_type": "markdown",
      "metadata": {
        "id": "TgiF-uHGHh7J",
        "colab_type": "text"
      },
      "source": [
        "## AMBIENTE DE DESENVOLVIMENTO\n",
        "\n",
        "---\n",
        "\n",
        "\n",
        "* ANACONDA em https://www.anaconda.com/distribution/\n",
        "* Efetue download/instalação do R em https://cloud.r-project.org/\n",
        "\n",
        "* Efetue download/instalação do RStudio(IDE para programarmos com R) em https://www.rstudio.com/products/rstudio/download/\n",
        "* Novo projeto R com Colab https://colab.research.google.com/notebook#create=true&language=r"
      ]
    },
    {
      "cell_type": "markdown",
      "metadata": {
        "id": "OqSUrY-FH28S",
        "colab_type": "text"
      },
      "source": [
        "## Declarando variáveis, comentando código e printando na tela:\n",
        "\n",
        "---\n",
        "\n",
        "\n",
        "\n",
        "* Declare variáveis com = ou <-\n",
        "* Utilize # para comentar linhas\n",
        "* Utilize print() para executar na tela\n",
        "* Utilize readline(prompt=”…”) para receber texto(inputs)"
      ]
    },
    {
      "cell_type": "code",
      "metadata": {
        "id": "Gr_1ILjCeWH9",
        "colab_type": "code",
        "colab": {}
      },
      "source": [
        "# Você pode declarar variáveis utilizando \"=\" ou \"<-\"\n",
        "x = \"Hello Qoda!\"\n",
        "y <- \"Hello Qoda!\""
      ],
      "execution_count": 0,
      "outputs": []
    },
    {
      "cell_type": "code",
      "metadata": {
        "id": "pUCa5OQMIEkQ",
        "colab_type": "code",
        "colab": {}
      },
      "source": [
        "z = readline(prompt=\"Qual é o seu nome?\")\n",
        "print(z)"
      ],
      "execution_count": 0,
      "outputs": []
    },
    {
      "cell_type": "markdown",
      "metadata": {
        "id": "slLoTwq6IJG6",
        "colab_type": "text"
      },
      "source": [
        "## Tipos de Dados(básicos)\n",
        "\n",
        "* Character(“Texto”)\n",
        "Neste tipo inserimos caracteres, podendo ser números, textos, símbolos…;\n",
        "* Integer (1L)\n",
        "Integer se refere a números inteiros e utilizamos o “L” para determina-lo, diferente do Numeric, onde os números são decimais: 1.0 e não 1;\n",
        "* Numeric (7.25)\n",
        "Números decimais, mesmo que declarando-os como 12, o sistema retornará 12.0, por exemplo.\n",
        "* Logical (T/F ou TRUE/FALSE)\n",
        "Tipo de dado com retorno TRUE ou FALSE, assim como T ou F. TRUE quando atendidas as condições e FALSE quando não atendidas. Nos aprofundaremos logo logo neste tipo de dado: tenha paciência."
      ]
    },
    {
      "cell_type": "code",
      "metadata": {
        "id": "0JdR58JFIOgS",
        "colab_type": "code",
        "colab": {}
      },
      "source": [
        "caract = \"Texto caractere\"\n",
        "class(caract) \n",
        "#retorna 'character'"
      ],
      "execution_count": 0,
      "outputs": []
    },
    {
      "cell_type": "code",
      "metadata": {
        "id": "gzFQ8Pb1IRWe",
        "colab_type": "code",
        "colab": {}
      },
      "source": [
        "inteiro = 15L\n",
        "class(inteiro) \n",
        "#retorna 'integer'"
      ],
      "execution_count": 0,
      "outputs": []
    },
    {
      "cell_type": "code",
      "metadata": {
        "id": "DXnYjfgkITZX",
        "colab_type": "code",
        "colab": {}
      },
      "source": [
        "num = 15\n",
        "class(num)\n",
        "#retorna 'numeric'"
      ],
      "execution_count": 0,
      "outputs": []
    },
    {
      "cell_type": "code",
      "metadata": {
        "id": "W-uYmwPpIVnZ",
        "colab_type": "code",
        "colab": {}
      },
      "source": [
        "logic = T\n",
        "class(logic)\n",
        "#retorna 'logical'"
      ],
      "execution_count": 0,
      "outputs": []
    },
    {
      "cell_type": "markdown",
      "metadata": {
        "id": "vh9BiZqqId68",
        "colab_type": "text"
      },
      "source": [
        "## Estruturas de Dados\n",
        "\n",
        "---\n",
        "\n"
      ]
    },
    {
      "cell_type": "code",
      "metadata": {
        "id": "4cexPoruIfRj",
        "colab_type": "code",
        "colab": {}
      },
      "source": [
        "# VETOR \n",
        "\n",
        "vec = 3\n",
        "is.vector(vec) #Retorna TRUE"
      ],
      "execution_count": 0,
      "outputs": []
    },
    {
      "cell_type": "code",
      "metadata": {
        "id": "L6Dz4hDbIjno",
        "colab_type": "code",
        "colab": {}
      },
      "source": [
        "# Para adicionar diversos elementos em 1 vetor, use c()\n",
        "vec = c(1,2,3,\"texto\")\n",
        "class(vec) #retorna character pois todos elementos serão do mesmo tipo"
      ],
      "execution_count": 0,
      "outputs": []
    },
    {
      "cell_type": "markdown",
      "metadata": {
        "id": "QwzgtP_LIno1",
        "colab_type": "text"
      },
      "source": [
        "## LISTA \n",
        "\n",
        "\n",
        "---\n",
        "\n"
      ]
    },
    {
      "cell_type": "code",
      "metadata": {
        "id": "KaI8FFkyIpHa",
        "colab_type": "code",
        "colab": {}
      },
      "source": [
        "x = c(\"texto1\",\"texto2\")\n",
        "y =  c(1,2,3)\n",
        "z = c(T,F,T)\n",
        "lista = c(x,y,z) \n",
        "class(lista)\n",
        "#retorna: 'texto1' 'texto2' '1' '2' '3' 'TRUE' 'FALSE' 'TRUE'"
      ],
      "execution_count": 0,
      "outputs": []
    },
    {
      "cell_type": "markdown",
      "metadata": {
        "id": "S8uF3u6mIuI-",
        "colab_type": "text"
      },
      "source": [
        "## MATRIZ \n",
        "\n",
        "\n",
        "\n",
        "---\n",
        "\n"
      ]
    },
    {
      "cell_type": "code",
      "metadata": {
        "id": "uXrnFM3mIvhs",
        "colab_type": "code",
        "colab": {}
      },
      "source": [
        "mat = matrix(c(1,2),nrow=1,ncol=2,byrow = TRUE) \n",
        "#nrow se refere ao número de colunas e ncol se refere ao número de linhas\n",
        "#byrow insere os elementos dentro de linhas quando TRUE ou em colunas, quando FALSE\n",
        "#retorna: 1 2\n",
        "mat"
      ],
      "execution_count": 0,
      "outputs": []
    },
    {
      "cell_type": "markdown",
      "metadata": {
        "id": "PUVs_y0jI1DI",
        "colab_type": "text"
      },
      "source": [
        "## DATAFRAME (estrutura para armazenar em forma de tabela)\n",
        "\n",
        "\n",
        "\n",
        "---\n",
        "\n"
      ]
    },
    {
      "cell_type": "code",
      "metadata": {
        "id": "MezU5NWmI6b4",
        "colab_type": "code",
        "colab": {}
      },
      "source": [
        "x = data.frame(nome = c(\"Ana\",\"Weber\",\"Aquiles\"),\n",
        "               idade = c(24L,27L,2L),\n",
        "               salario = c(12000,0,0))\n",
        "#nrow(x) #retorna número de linhas do dataframe\n",
        "#ncol(x) #retorna número de colunas do dataframe\n",
        "dim(x) #retorna número de linhas e colunas"
      ],
      "execution_count": 0,
      "outputs": []
    },
    {
      "cell_type": "markdown",
      "metadata": {
        "id": "YjcENDC6JAUo",
        "colab_type": "text"
      },
      "source": [
        "## CONDICIONAIS\n",
        "\n",
        "\n",
        "---\n",
        "\n"
      ]
    },
    {
      "cell_type": "code",
      "metadata": {
        "id": "-Q4pDuD2JBvG",
        "colab_type": "code",
        "colab": {}
      },
      "source": [
        "if (3 > 0) {\n",
        " \n",
        "    print(\"3 é maior que 0\")\n",
        " \n",
        "}"
      ],
      "execution_count": 0,
      "outputs": []
    },
    {
      "cell_type": "code",
      "metadata": {
        "id": "TsX0bUJYJHgj",
        "colab_type": "code",
        "colab": {}
      },
      "source": [
        "if (3 == 0) {\n",
        " \n",
        "  print(\"3 = 0\")\n",
        " \n",
        "} else {\n",
        " \n",
        "    print(\"3 não é igual a 0\")\n",
        " \n",
        "}"
      ],
      "execution_count": 0,
      "outputs": []
    },
    {
      "cell_type": "code",
      "metadata": {
        "id": "aN8MRLPfJLg-",
        "colab_type": "code",
        "colab": {}
      },
      "source": [
        "a = 1\n",
        "b = 2\n",
        "ifelse(a>0,\"A maior que 0\",\"A menor que 0\")\n",
        "#retorna A maior que 0"
      ],
      "execution_count": 0,
      "outputs": []
    },
    {
      "cell_type": "markdown",
      "metadata": {
        "id": "NthXxmE8JPoX",
        "colab_type": "text"
      },
      "source": [
        "## FUNÇÕES\n",
        "\n",
        "---\n",
        "\n"
      ]
    },
    {
      "cell_type": "code",
      "metadata": {
        "id": "EKYoAmaDJRPW",
        "colab_type": "code",
        "colab": {}
      },
      "source": [
        "# FUNÇÕES R BASE\n",
        "x = c(1,2,3,4,5,6,7,8,9,10)\n",
        "#sd(x) #desvio padrão\n",
        "#mean(x) #média\n",
        "#head(iris) #primeiras linhas dataframe\n",
        "#tail(iris) #ultimas linhas dataframe\n",
        "file.choose() #abre pasta para caminho de arquivos"
      ],
      "execution_count": 0,
      "outputs": []
    },
    {
      "cell_type": "code",
      "metadata": {
        "id": "Hthool_VJW5Y",
        "colab_type": "code",
        "colab": {}
      },
      "source": [
        "raizquadrada = function(x) {\n",
        "  return(x*x)\n",
        "}\n",
        "raizquadrada(4)"
      ],
      "execution_count": 0,
      "outputs": []
    },
    {
      "cell_type": "markdown",
      "metadata": {
        "id": "YTt-PzepJdUI",
        "colab_type": "text"
      },
      "source": [
        "## PACOTES\n",
        "\n",
        "---\n",
        "\n"
      ]
    },
    {
      "cell_type": "code",
      "metadata": {
        "id": "ay9fB-x2Jet8",
        "colab_type": "code",
        "colab": {}
      },
      "source": [
        "#Instala pacote\n",
        "install.packages(\"ggplot2\", dependencies=TRUE)\n",
        "\n",
        "# Carrega pacote para ser utilizado no código\n",
        "library(ggplot2)"
      ],
      "execution_count": 0,
      "outputs": []
    },
    {
      "cell_type": "markdown",
      "metadata": {
        "id": "VjAMdzVfe0hz",
        "colab_type": "text"
      },
      "source": [
        "# END TO END!"
      ]
    },
    {
      "cell_type": "markdown",
      "metadata": {
        "id": "KQlZiQQj2P-a",
        "colab_type": "text"
      },
      "source": [
        "## 1 ENTENDENDO O PROBLEMA\n",
        "### Classificaçãode imagens \n",
        "#### Neste guia, treinaremos um modelo de rede neural para classificar imagens de roupas, como tênis e camisas. Tudo bem se você não entender todos os detalhes, esta é uma visão geral rápida de um programa Keras completo, com os detalhes explicados à medida que avançamos.\n",
        "\n",
        "---\n",
        "\n",
        "![alt text](https://miro.medium.com/max/377/1*_fR-2Yg-xaWXssnj08Zqeg.jpeg)"
      ]
    },
    {
      "cell_type": "code",
      "metadata": {
        "id": "tId5rwMefBJi",
        "colab_type": "code",
        "colab": {}
      },
      "source": [
        "# PACOTES\n",
        "install.packages(\"devtools\")\n",
        "devtools::install_github(\"rstudio/keras\")\n",
        "\n",
        "#CARREGAR\n",
        "library(keras)\n",
        "library(magrittr)"
      ],
      "execution_count": 0,
      "outputs": []
    },
    {
      "cell_type": "markdown",
      "metadata": {
        "id": "73rvxTXy2hHV",
        "colab_type": "text"
      },
      "source": [
        "## 2 COLETA DE DADOS MNIST\n",
        "\n",
        "---\n",
        "https://www.kaggle.com/zalando-research/fashionmnist<br>\n",
        "Este guia usa o conjunto de dados Fashion MNIST com 70.000 imagens em escala de cinza em 10 categorias. As imagens mostram artigos de vestuário individuais em baixa resolução (28 por 28 pixels), como pode ser visto aqui:<BR><BR>\n",
        "\n",
        "![alt text](https://github.com/zalandoresearch/fashion-mnist/raw/master/doc/img/embedding.gif)<br>\n",
        "O Fashion MNIST pretende substituir o conjunto de dados clássico do MNIST - frequentemente usado como o \"Olá, Mundo\" dos programas de aprendizado de máquina para visão computacional. O conjunto de dados MNIST contém imagens de dígitos manuscritos (0, 1, 2 etc.) em um formato idêntico aos artigos de vestuário que usaremos aqui. Este guia usa o Fashion MNIST para variedade e porque é um problema um pouco mais desafiador do que o MNIST comum. Ambos os conjuntos de dados são relativamente pequenos e são usados ​​para verificar se um algoritmo funciona conforme o esperado. Eles são bons pontos de partida para testar e depurar código. Usaremos 60.000 imagens para treinar a rede e 10.000 imagens para avaliar com que precisão a rede aprendeu a classificar imagens. Você pode acessar o Fashion MNIST diretamente do Keras."
      ]
    },
    {
      "cell_type": "code",
      "metadata": {
        "id": "Y1M-CpQ7Cy1a",
        "colab_type": "code",
        "colab": {}
      },
      "source": [
        "fashion_mnist <- dataset_fashion_mnist()\n",
        "\n",
        "c(train_images, train_labels) %<-% fashion_mnist$train\n",
        "c(test_images, test_labels) %<-% fashion_mnist$test"
      ],
      "execution_count": 0,
      "outputs": []
    },
    {
      "cell_type": "markdown",
      "metadata": {
        "id": "ZKbhjtTGCp5s",
        "colab_type": "text"
      },
      "source": [
        "Temos quatro matrizes: as matrizes \"train_images\" e \"train_labels\" são o conjunto de treinamento - os dados que o modelo usa para aprender. O modelo é testado em relação ao conjunto de testes: as matrizes \"test_images\" e \"test_labels\". As imagens são matrizes 28x28, com valores de pixel que variam entre 0 e 255. Os rótulos são matrizes de números inteiros, variando de 0 a 9. Eles correspondem à classe de roupa que a imagem representa."
      ]
    },
    {
      "cell_type": "markdown",
      "metadata": {
        "id": "zNAESDEz7TTv",
        "colab_type": "text"
      },
      "source": [
        "## 3 TRAIN/TEST\n",
        "\n",
        "---\n",
        "\n",
        "![alt text](data:image/png;base64,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)"
      ]
    },
    {
      "cell_type": "markdown",
      "metadata": {
        "id": "sNutvHuV3KhY",
        "colab_type": "text"
      },
      "source": [
        "## 4 EXPLORAÇÃO DOS DADOS\n",
        "\n",
        "---\n",
        "\n",
        "Cada imagem é mapeada para um único rótulo. Como os nomes das classes não estão incluídos no conjunto de dados, os armazenaremos em um vetor para uso posterior na plotagem das imagens."
      ]
    },
    {
      "cell_type": "code",
      "metadata": {
        "id": "DAazpYuBFSFG",
        "colab_type": "code",
        "colab": {}
      },
      "source": [
        "# https://www.kaggle.com/zalando-research/fashionmnist\n",
        "class_names = c('Camiseta',\n",
        "                'Calça',\n",
        "                'Suéter',\n",
        "                'Vestido',\n",
        "                'Casaco', \n",
        "                'Sandália',\n",
        "                'Camisa',\n",
        "                'Tênis',\n",
        "                'Mochila',\n",
        "                'Ankle boot')"
      ],
      "execution_count": 0,
      "outputs": []
    },
    {
      "cell_type": "code",
      "metadata": {
        "id": "PzGIVgj2F6zd",
        "colab_type": "code",
        "colab": {}
      },
      "source": [
        "dim(train_images)"
      ],
      "execution_count": 0,
      "outputs": []
    },
    {
      "cell_type": "code",
      "metadata": {
        "id": "nmFMelxQF-5o",
        "colab_type": "code",
        "colab": {}
      },
      "source": [
        "dim(train_labels)"
      ],
      "execution_count": 0,
      "outputs": []
    },
    {
      "cell_type": "code",
      "metadata": {
        "id": "XVtZt1J4GOYD",
        "colab_type": "code",
        "colab": {}
      },
      "source": [
        "train_labels"
      ],
      "execution_count": 0,
      "outputs": []
    },
    {
      "cell_type": "code",
      "metadata": {
        "id": "g4MZlJPJGRXz",
        "colab_type": "code",
        "colab": {}
      },
      "source": [
        "dim(test_images)"
      ],
      "execution_count": 0,
      "outputs": []
    },
    {
      "cell_type": "code",
      "metadata": {
        "id": "ZaSjUYQzGUA8",
        "colab_type": "code",
        "colab": {}
      },
      "source": [
        "dim(test_labels)"
      ],
      "execution_count": 0,
      "outputs": []
    },
    {
      "cell_type": "markdown",
      "metadata": {
        "id": "jvkpGfPnGWdY",
        "colab_type": "text"
      },
      "source": [
        "## 5 PRE-PROCESSAMENTO DOS DADOS\n",
        "\n",
        "---\n",
        "\n",
        "Os dados devem ser pré-processados ​​antes de treinar a rede. Se você inspecionar a primeira imagem no conjunto de treinamento, verá que os valores de pixel caem no intervalo de 0 a 255."
      ]
    },
    {
      "cell_type": "code",
      "metadata": {
        "id": "vzoFZMlgGZfI",
        "colab_type": "code",
        "colab": {}
      },
      "source": [
        "library(tidyr)\n",
        "library(ggplot2)\n",
        "\n",
        "image_1 <- as.data.frame(train_images[1, , ])\n",
        "colnames(image_1) <- seq_len(ncol(image_1))\n",
        "image_1$y <- seq_len(nrow(image_1))\n",
        "image_1 <- gather(image_1, \"x\", \"value\", -y)\n",
        "image_1$x <- as.integer(image_1$x)\n",
        "\n",
        "ggplot(image_1, aes(x = x, y = y, fill = value)) +\n",
        "  geom_tile() +\n",
        "  scale_fill_gradient(low = \"white\", high = \"black\", na.value = NA) +\n",
        "  scale_y_reverse() +\n",
        "  theme_minimal() +\n",
        "  theme(panel.grid = element_blank())   +\n",
        "  theme(aspect.ratio = 1) +\n",
        "  xlab(\"\") +\n",
        "  ylab(\"\")"
      ],
      "execution_count": 0,
      "outputs": []
    },
    {
      "cell_type": "markdown",
      "metadata": {
        "id": "4nE8vPgrGz8E",
        "colab_type": "text"
      },
      "source": [
        "Nós escalamos esses valores para um intervalo de 0 a 1 antes de alimentar o modelo de rede neural. Para isso, simplesmente dividimos por 255. É importante que o conjunto de treinamento e o conjunto de testes sejam pré-processados ​​da mesma maneira:"
      ]
    },
    {
      "cell_type": "code",
      "metadata": {
        "id": "8LUeoVRCG3Gx",
        "colab_type": "code",
        "colab": {}
      },
      "source": [
        "train_images <- train_images / 255\n",
        "test_images <- test_images / 255"
      ],
      "execution_count": 0,
      "outputs": []
    },
    {
      "cell_type": "code",
      "metadata": {
        "id": "YBlCXWSVG8ky",
        "colab_type": "code",
        "colab": {}
      },
      "source": [
        "# Exibição das 25 primeiras imagens do conjunto de treinamento e a \"class_name\" abaixo de cada imagem. \n",
        "# Verifique se os dados estão no formato correto e se estamos prontos para criar e treinar a rede.\n",
        "\n",
        "par(mfcol=c(5,5))\n",
        "par(mar=c(0, 0, 1.5, 0), xaxs='i', yaxs='i')\n",
        "for (i in 1:25) { \n",
        "  img <- train_images[i, , ]\n",
        "  img <- t(apply(img, 2, rev)) \n",
        "  image(1:28, 1:28, img, col = gray((0:255)/255), xaxt = 'n', yaxt = 'n',\n",
        "        main = paste(class_names[train_labels[i] + 1]))\n",
        "}"
      ],
      "execution_count": 0,
      "outputs": []
    },
    {
      "cell_type": "markdown",
      "metadata": {
        "id": "uNuiSPx99iRr",
        "colab_type": "text"
      },
      "source": [
        "## 6 FEATURE ENGINEERING, OUTLIERS... ?!\n",
        "\n",
        "---\n",
        "\n",
        "\n",
        "![alt text](https://blog.exxactcorp.com/wp-content/uploads/2019/10/pasted-image-0.png)"
      ]
    },
    {
      "cell_type": "markdown",
      "metadata": {
        "id": "4R7gJOKx8ODK",
        "colab_type": "text"
      },
      "source": [
        "## 7 REDES NEURAIS\n",
        "![alt text](https://upload.wikimedia.org/wikipedia/commons/thumb/9/99/Neural_network_example.svg/1200px-Neural_network_example.svg.png)"
      ]
    },
    {
      "cell_type": "markdown",
      "metadata": {
        "id": "sFcRtQPuH8IL",
        "colab_type": "text"
      },
      "source": [
        "## 8 MODELO PREDITIVO\n",
        "A construção da rede neural requer a configuração das camadas do modelo e sua compilação. O elemento básico de uma rede neural é a camada. As camadas extraem representações dos dados alimentados a elas. E, esperançosamente, essas representações são mais significativas para o problema em questão. A maior parte do aprendizado profundo, ou deep learning, consiste em encadear camadas simples. A maioria das camadas, como \"layer_dense\", possui parâmetros que são aprendidos durante o treinamento."
      ]
    },
    {
      "cell_type": "code",
      "metadata": {
        "id": "_GflKrqfITqd",
        "colab_type": "code",
        "colab": {}
      },
      "source": [
        "model <- keras_model_sequential()\n",
        "model %>%\n",
        "  layer_flatten(input_shape = c(28, 28)) %>%\n",
        "  layer_dense(units = 128, activation = 'relu') %>%\n",
        "  layer_dense(units = 10, activation = 'softmax')"
      ],
      "execution_count": 0,
      "outputs": []
    },
    {
      "cell_type": "markdown",
      "metadata": {
        "id": "yY4NMAeuIoiP",
        "colab_type": "text"
      },
      "source": [
        "A primeira camada nesta rede, \"layer_flatten\", transforma o formato das imagens de um array 2D (de 28 por 28 pixels) para um array 2D de 28*28 = 784 pixels. Pense nessa camada como uma desempilhadora de linhas de pixels na imagem e a seguir realinhando-as. Esta camada não tem parâmetros para aprender; apenas reformata os dados. Depois que os pixels são achatados, a rede consiste em uma sequência de duas camadas densas. São camadas neurais densamente conectadas ou totalmente conectadas. A primeira camada densa possui 128 nós (ou neurônios). A segunda (e última) camada é uma camada de softmax de 10 nós - retorna uma matriz de 10 pontuações de probabilidade que somam 1. Cada nó contém uma pontuação que indica a probabilidade de a imagem atual pertencer a uma das classes de 10 dígitos."
      ]
    },
    {
      "cell_type": "markdown",
      "metadata": {
        "id": "kdsnNw3KQJFD",
        "colab_type": "text"
      },
      "source": [
        "## 9 COMPILANDO O MODELO\n",
        "\n",
        "---\n",
        "Antes do modelo estar pronto para o treinamento, ele precisa de mais algumas configurações. Eles são adicionados durante a etapa de compilação do modelo: \n",
        "* Loss Function - mede a precisão do modelo durante o treinamento. Queremos minimizar essa função para \"orientar\" o modelo na direção certa. \n",
        "* Otimizador - é assim que o modelo é atualizado com base nos dados que ele vê e em sua função de perda. \n",
        "* Métricas - usadas para monitorar as etapas de treinamento e teste. O exemplo a seguir usa Acurácia: fração das imagens que são classificadas corretamente.\n"
      ]
    },
    {
      "cell_type": "code",
      "metadata": {
        "id": "k-Ctc9v0QavS",
        "colab_type": "code",
        "colab": {}
      },
      "source": [
        "model %>% compile(\n",
        "  optimizer = 'adam', \n",
        "  loss = 'sparse_categorical_crossentropy',\n",
        "  metrics = c('accuracy')\n",
        ")"
      ],
      "execution_count": 0,
      "outputs": []
    },
    {
      "cell_type": "markdown",
      "metadata": {
        "id": "GZm148NmQjOy",
        "colab_type": "text"
      },
      "source": [
        "## 10 TREINAMENTO DO MODELO\n",
        "\n",
        "---\n",
        "\n",
        "O treinamento do modelo de rede neural requer as seguintes etapas: \n",
        "* Alimente os dados de treinamento ao modelo - neste exemplo, as matrizes train_images e train_labels. O modelo aprende a associar imagens e as \"class_names\", nossos \"rótulos\". \n",
        "* Pedimos ao modelo que faça previsões sobre um conjunto de testes - neste exemplo, a matriz test_images. Verificamos que as previsões correspondem aos rótulos da matriz test_labels. \n",
        "* Para iniciar o treinamento, chame o método de ajuste - o modelo é \"adequado\" aos dados de treinamento:\n"
      ]
    },
    {
      "cell_type": "code",
      "metadata": {
        "id": "E-IvebQxQ9OH",
        "colab_type": "code",
        "colab": {}
      },
      "source": [
        "# Error in py_call_impl(callable, dots$args, dots$keywords): RuntimeError: Evaluation error: invalid argument type.\n",
        "# https://github.com/keras-team/keras/issues/13827\n",
        "\n",
        "model %>% fit(train_images, train_labels, epochs = 5, verbose = 2)"
      ],
      "execution_count": 0,
      "outputs": []
    },
    {
      "cell_type": "markdown",
      "metadata": {
        "id": "Kb4p9zVv3W6W",
        "colab_type": "text"
      },
      "source": [
        "##  11 AVALIAR ACURÁCIA\n",
        "\n",
        "---\n",
        "\n",
        "Acontece que a precisão no conjunto de dados de teste é um pouco menor que a precisão no conjunto de dados de treinamento. Essa lacuna entre a precisão do treinamento e a precisão do teste é um exemplo de OVER-FITTING, quando um modelo apresenta desempenho muito baixo em novos dados do que em seus dados de treinamento."
      ]
    },
    {
      "cell_type": "code",
      "metadata": {
        "id": "Sp6FHYgpV1HP",
        "colab_type": "code",
        "colab": {}
      },
      "source": [
        "score <- model %>% evaluate(test_images, test_labels, verbose = 0)\n",
        "\n",
        "cat('Test loss:', score$loss, \"\\n\")\n",
        "cat('Test accuracy:', score$acc, \"\\n\")"
      ],
      "execution_count": 0,
      "outputs": []
    },
    {
      "cell_type": "markdown",
      "metadata": {
        "colab_type": "text",
        "id": "p5Djc7F8Ueix"
      },
      "source": [
        "## 12 OVERFITTING\n",
        "![alt text](https://3gp10c1vpy442j63me73gy3s-wpengine.netdna-ssl.com/wp-content/uploads/2018/03/Screen-Shot-2018-03-22-at-11.22.15-AM-e1526498075543.png)"
      ]
    },
    {
      "cell_type": "markdown",
      "metadata": {
        "colab_type": "text",
        "id": "jdYSG_TjUeVR"
      },
      "source": [
        "## 13 REALIZANDO PREDIÇÕES\n",
        "\n",
        "---\n"
      ]
    },
    {
      "cell_type": "code",
      "metadata": {
        "id": "Tug7ZUhTU81E",
        "colab_type": "code",
        "colab": {}
      },
      "source": [
        "predictions <- model %>% predict(test_images)"
      ],
      "execution_count": 0,
      "outputs": []
    },
    {
      "cell_type": "markdown",
      "metadata": {
        "id": "oPy-Wj6BVftY",
        "colab_type": "text"
      },
      "source": [
        "Uma previsão é uma matriz de 10 números. Eles descrevem a “confiança” do modelo de que a imagem corresponde a cada um dos 10 diferentes itens de vestuário. Podemos ver qual rótulo tem o maior valor de confiança:"
      ]
    },
    {
      "cell_type": "code",
      "metadata": {
        "id": "SbH-lsG_VvY5",
        "colab_type": "code",
        "colab": {}
      },
      "source": [
        "which.max(predictions[1, ])"
      ],
      "execution_count": 0,
      "outputs": []
    },
    {
      "cell_type": "markdown",
      "metadata": {
        "id": "mpvROt-VVuHh",
        "colab_type": "text"
      },
      "source": [
        "Como alternativa, também podemos obter diretamente a previsão de classe:"
      ]
    },
    {
      "cell_type": "code",
      "metadata": {
        "id": "ycIhB1tDV7TW",
        "colab_type": "code",
        "colab": {}
      },
      "source": [
        "class_pred <- model %>% predict_classes(test_images)\n",
        "class_pred[1:20]"
      ],
      "execution_count": 0,
      "outputs": []
    },
    {
      "cell_type": "markdown",
      "metadata": {
        "id": "tZtLwgO7XbF9",
        "colab_type": "text"
      },
      "source": [
        "Vamos plotar imagens com suas previsões. Os rótulos de previsão corretos são verdes e os de previsão incorretos são vermelhos."
      ]
    },
    {
      "cell_type": "code",
      "metadata": {
        "id": "gcQAXc6IXhu6",
        "colab_type": "code",
        "colab": {}
      },
      "source": [
        "par(mfcol=c(5,5))\n",
        "par(mar=c(0, 0, 1.5, 0), xaxs='i', yaxs='i')\n",
        "for (i in 1:25) { \n",
        "  img <- test_images[i, , ]\n",
        "  img <- t(apply(img, 2, rev)) \n",
        "  # subtract 1 as labels go from 0 to 9\n",
        "  predicted_label <- which.max(predictions[i, ]) - 1\n",
        "  true_label <- test_labels[i]\n",
        "  if (predicted_label == true_label) {\n",
        "    color <- '#008800' \n",
        "  } else {\n",
        "    color <- '#bb0000'\n",
        "  }\n",
        "  image(1:28, 1:28, img, col = gray((0:255)/255), xaxt = 'n', yaxt = 'n',\n",
        "        main = paste0(class_names[predicted_label + 1], \" (\",\n",
        "                      class_names[true_label + 1], \")\"),\n",
        "        col.main = color)\n",
        "}"
      ],
      "execution_count": 0,
      "outputs": []
    },
    {
      "cell_type": "code",
      "metadata": {
        "id": "xKcUQ7bOXrp7",
        "colab_type": "code",
        "colab": {}
      },
      "source": [
        "# Grab an image from the test dataset\n",
        "# take care to keep the batch dimension, as this is expected by the model\n",
        "img <- test_images[1, , , drop = FALSE]\n",
        "dim(img)"
      ],
      "execution_count": 0,
      "outputs": []
    },
    {
      "cell_type": "code",
      "metadata": {
        "id": "j07dbccqXyK1",
        "colab_type": "code",
        "colab": {}
      },
      "source": [
        "predictions <- model %>% predict(img)\n",
        "predictions"
      ],
      "execution_count": 0,
      "outputs": []
    },
    {
      "cell_type": "code",
      "metadata": {
        "id": "yzx8EzZ-X5Xu",
        "colab_type": "code",
        "colab": {}
      },
      "source": [
        "# subtract 1 as labels are 0-based\n",
        "prediction <- predictions[1, ] - 1\n",
        "which.max(prediction)"
      ],
      "execution_count": 0,
      "outputs": []
    },
    {
      "cell_type": "code",
      "metadata": {
        "id": "xP0SLewTX_Xj",
        "colab_type": "code",
        "colab": {}
      },
      "source": [
        "class_pred <- model %>% predict_classes(img)\n",
        "class_pred"
      ],
      "execution_count": 0,
      "outputs": []
    },
    {
      "cell_type": "markdown",
      "metadata": {
        "id": "b7nJuLoE09f9",
        "colab_type": "text"
      },
      "source": [
        "## Material de apoio:\n",
        "https://tensorflow.rstudio.com/<br>\n",
        "https://r4ds.had.co.nz/<br>\n",
        "https://github.com/zalandoresearch/fashion-mnist<br>"
      ]
    }
  ]
}