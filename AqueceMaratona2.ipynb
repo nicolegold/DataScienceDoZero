{
  "nbformat": 4,
  "nbformat_minor": 0,
  "metadata": {
    "colab": {
      "name": "2 Copy of AqueceMaratona2.ipynb",
      "provenance": [],
      "collapsed_sections": [
        "596ycXDs3635",
        "pBAuAzQfGkeF",
        "Dztb3epDJSOg",
        "ilMNR3hSK39F",
        "ee4Ohlr2MpfN",
        "sjJxHVUJqVwC",
        "ZOJETU0xrvyV",
        "Pnb1jiHSro3p",
        "mxk2RBkuqA1J",
        "9lzQc-H-10Wy",
        "CDCsZseh5_48",
        "A4VGuTFn7ebK",
        "9DEJf4KV6ZEm"
      ],
      "include_colab_link": true
    },
    "kernelspec": {
      "name": "python3",
      "display_name": "Python 3"
    }
  },
  "cells": [
    {
      "cell_type": "markdown",
      "metadata": {
        "id": "view-in-github",
        "colab_type": "text"
      },
      "source": [
        "<a href=\"https://colab.research.google.com/github/nicolegold/DataScienceDoZero/blob/master/AqueceMaratona2.ipynb\" target=\"_parent\"><img src=\"https://colab.research.google.com/assets/colab-badge.svg\" alt=\"Open In Colab\"/></a>"
      ]
    },
    {
      "cell_type": "markdown",
      "metadata": {
        "id": "E3GtEvxwO8zs",
        "colab_type": "text"
      },
      "source": [
        "# AQUECE MARATONA 2020! \n",
        "\n",
        "*   LOTE 2 ( 102,00 ) https://www.qoda.com.br/maratona-data-science-pre-venda/\n",
        "*   LOTE 3 ( 222,00 )\n",
        "*   LOTE FINAL ( 992,00 )\n",
        "\n",
        "\n",
        "\n",
        "\n",
        "---\n",
        "![](https://www.qoda.com.br/wp-content/uploads/2020/02/timeline-maratona.png)\n",
        "\n",
        "\n",
        "---\n",
        "\n",
        "*   LOTE 2 ( 102,00 ) https://www.qoda.com.br/maratona-data-science-pre-venda/\n",
        "*   LOTE 3 ( 222,00 )\n",
        "*   LOTE FINAL ( 992,00 )\n"
      ]
    },
    {
      "cell_type": "markdown",
      "metadata": {
        "id": "0BYRV2Iv2PMB",
        "colab_type": "text"
      },
      "source": [
        "# END TO END\n",
        "\n",
        "---\n",
        "\n",
        "Projeto que passa por todas etapas de um projeto Data Science.<br><br>\n",
        "![alt text](https://miro.medium.com/max/377/1*_fR-2Yg-xaWXssnj08Zqeg.jpeg)"
      ]
    },
    {
      "cell_type": "code",
      "metadata": {
        "id": "ThDO00gU8JwE",
        "colab_type": "code",
        "colab": {}
      },
      "source": [
        "import pandas as pd\n",
        "import numpy as np"
      ],
      "execution_count": 0,
      "outputs": []
    },
    {
      "cell_type": "markdown",
      "metadata": {
        "id": "9xou-1OpFK9e",
        "colab_type": "text"
      },
      "source": [
        "## PREPARE DATA\n",
        "\n",
        "---\n",
        "\n"
      ]
    },
    {
      "cell_type": "markdown",
      "metadata": {
        "id": "NkoaJK1A33jR",
        "colab_type": "text"
      },
      "source": [
        "### AQUISIÇÃO DE DADOS\n",
        "\n",
        "---\n",
        "\n",
        "https://www.kaggle.com/camnugent/california-housing-prices"
      ]
    },
    {
      "cell_type": "code",
      "metadata": {
        "id": "DJsQekYC_o9K",
        "colab_type": "code",
        "outputId": "4296870a-e86f-4a95-8035-265a3a364a8b",
        "colab": {
          "resources": {
            "http://localhost:8080/nbextensions/google.colab/files.js": {
              "data": "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",
              "ok": true,
              "headers": [
                [
                  "content-type",
                  "application/javascript"
                ]
              ],
              "status": 200,
              "status_text": ""
            }
          },
          "base_uri": "https://localhost:8080/",
          "height": 58
        }
      },
      "source": [
        "from google.colab import files\n",
        "files.upload()"
      ],
      "execution_count": 0,
      "outputs": [
        {
          "output_type": "display_data",
          "data": {
            "text/html": [
              "\n",
              "     <input type=\"file\" id=\"files-1909db22-eebd-4d90-b4e6-9cad5efae8ef\" name=\"files[]\" multiple disabled />\n",
              "     <output id=\"result-1909db22-eebd-4d90-b4e6-9cad5efae8ef\">\n",
              "      Upload widget is only available when the cell has been executed in the\n",
              "      current browser session. Please rerun this cell to enable.\n",
              "      </output>\n",
              "      <script src=\"/nbextensions/google.colab/files.js\"></script> "
            ],
            "text/plain": [
              "<IPython.core.display.HTML object>"
            ]
          },
          "metadata": {
            "tags": []
          }
        },
        {
          "output_type": "execute_result",
          "data": {
            "text/plain": [
              "{}"
            ]
          },
          "metadata": {
            "tags": []
          },
          "execution_count": 52
        }
      ]
    },
    {
      "cell_type": "markdown",
      "metadata": {
        "id": "lXGH2q5LFjVS",
        "colab_type": "text"
      },
      "source": [
        "### CLASSIFICAÇÃO VS. REGRESSÃO\n",
        "\n",
        "---\n",
        "![alt text](https://www.researchgate.net/profile/Yves_Matanga2/publication/326175998/figure/fig9/AS:644582983352328@1530691967314/Classification-vs-Regression.png)\n"
      ]
    },
    {
      "cell_type": "markdown",
      "metadata": {
        "id": "DIbFDwCs9vos",
        "colab_type": "text"
      },
      "source": [
        "### INDICADORES DE DESEMPENHO\n",
        "\n",
        "---\n",
        "\n",
        "Para problemas de regressão utilizamos comumente o RMSE(raiz do erro quadrático médio).\n",
        "Para maiores informações acesse http://www-di.inf.puc-rio.br/~lopes//inf2391/Data_Science_Learning2.pdf"
      ]
    },
    {
      "cell_type": "markdown",
      "metadata": {
        "id": "yq_FQlFZGAWO",
        "colab_type": "text"
      },
      "source": [
        "### ANÁLISE EXPLORATÓRIA DOS DADOS"
      ]
    },
    {
      "cell_type": "code",
      "metadata": {
        "id": "aj4wVRm7_4wG",
        "colab_type": "code",
        "outputId": "60b229d0-7d5e-4592-9b90-c95b84bafc0b",
        "colab": {
          "base_uri": "https://localhost:8080/",
          "height": 204
        }
      },
      "source": [
        "housing = pd.read_csv('housing.csv')\n",
        "housing.head()"
      ],
      "execution_count": 0,
      "outputs": [
        {
          "output_type": "execute_result",
          "data": {
            "text/html": [
              "<div>\n",
              "<style scoped>\n",
              "    .dataframe tbody tr th:only-of-type {\n",
              "        vertical-align: middle;\n",
              "    }\n",
              "\n",
              "    .dataframe tbody tr th {\n",
              "        vertical-align: top;\n",
              "    }\n",
              "\n",
              "    .dataframe thead th {\n",
              "        text-align: right;\n",
              "    }\n",
              "</style>\n",
              "<table border=\"1\" class=\"dataframe\">\n",
              "  <thead>\n",
              "    <tr style=\"text-align: right;\">\n",
              "      <th></th>\n",
              "      <th>longitude</th>\n",
              "      <th>latitude</th>\n",
              "      <th>housing_median_age</th>\n",
              "      <th>total_rooms</th>\n",
              "      <th>total_bedrooms</th>\n",
              "      <th>population</th>\n",
              "      <th>households</th>\n",
              "      <th>median_income</th>\n",
              "      <th>median_house_value</th>\n",
              "      <th>ocean_proximity</th>\n",
              "    </tr>\n",
              "  </thead>\n",
              "  <tbody>\n",
              "    <tr>\n",
              "      <th>0</th>\n",
              "      <td>-122.23</td>\n",
              "      <td>37.88</td>\n",
              "      <td>41.0</td>\n",
              "      <td>880.0</td>\n",
              "      <td>129.0</td>\n",
              "      <td>322.0</td>\n",
              "      <td>126.0</td>\n",
              "      <td>8.3252</td>\n",
              "      <td>452600.0</td>\n",
              "      <td>NEAR BAY</td>\n",
              "    </tr>\n",
              "    <tr>\n",
              "      <th>1</th>\n",
              "      <td>-122.22</td>\n",
              "      <td>37.86</td>\n",
              "      <td>21.0</td>\n",
              "      <td>7099.0</td>\n",
              "      <td>1106.0</td>\n",
              "      <td>2401.0</td>\n",
              "      <td>1138.0</td>\n",
              "      <td>8.3014</td>\n",
              "      <td>358500.0</td>\n",
              "      <td>NEAR BAY</td>\n",
              "    </tr>\n",
              "    <tr>\n",
              "      <th>2</th>\n",
              "      <td>-122.24</td>\n",
              "      <td>37.85</td>\n",
              "      <td>52.0</td>\n",
              "      <td>1467.0</td>\n",
              "      <td>190.0</td>\n",
              "      <td>496.0</td>\n",
              "      <td>177.0</td>\n",
              "      <td>7.2574</td>\n",
              "      <td>352100.0</td>\n",
              "      <td>NEAR BAY</td>\n",
              "    </tr>\n",
              "    <tr>\n",
              "      <th>3</th>\n",
              "      <td>-122.25</td>\n",
              "      <td>37.85</td>\n",
              "      <td>52.0</td>\n",
              "      <td>1274.0</td>\n",
              "      <td>235.0</td>\n",
              "      <td>558.0</td>\n",
              "      <td>219.0</td>\n",
              "      <td>5.6431</td>\n",
              "      <td>341300.0</td>\n",
              "      <td>NEAR BAY</td>\n",
              "    </tr>\n",
              "    <tr>\n",
              "      <th>4</th>\n",
              "      <td>-122.25</td>\n",
              "      <td>37.85</td>\n",
              "      <td>52.0</td>\n",
              "      <td>1627.0</td>\n",
              "      <td>280.0</td>\n",
              "      <td>565.0</td>\n",
              "      <td>259.0</td>\n",
              "      <td>3.8462</td>\n",
              "      <td>342200.0</td>\n",
              "      <td>NEAR BAY</td>\n",
              "    </tr>\n",
              "  </tbody>\n",
              "</table>\n",
              "</div>"
            ],
            "text/plain": [
              "   longitude  latitude  ...  median_house_value  ocean_proximity\n",
              "0    -122.23     37.88  ...            452600.0         NEAR BAY\n",
              "1    -122.22     37.86  ...            358500.0         NEAR BAY\n",
              "2    -122.24     37.85  ...            352100.0         NEAR BAY\n",
              "3    -122.25     37.85  ...            341300.0         NEAR BAY\n",
              "4    -122.25     37.85  ...            342200.0         NEAR BAY\n",
              "\n",
              "[5 rows x 10 columns]"
            ]
          },
          "metadata": {
            "tags": []
          },
          "execution_count": 53
        }
      ]
    },
    {
      "cell_type": "code",
      "metadata": {
        "id": "aXnaCDajAKi7",
        "colab_type": "code",
        "outputId": "2362574b-88e7-4434-cdef-39ec6a12016f",
        "colab": {
          "base_uri": "https://localhost:8080/",
          "height": 306
        }
      },
      "source": [
        "# 10 features, sendo cada linha um distrito\n",
        "# 20.639 amostras\n",
        "housing.info()"
      ],
      "execution_count": 0,
      "outputs": [
        {
          "output_type": "stream",
          "text": [
            "<class 'pandas.core.frame.DataFrame'>\n",
            "RangeIndex: 20640 entries, 0 to 20639\n",
            "Data columns (total 10 columns):\n",
            " #   Column              Non-Null Count  Dtype  \n",
            "---  ------              --------------  -----  \n",
            " 0   longitude           20640 non-null  float64\n",
            " 1   latitude            20640 non-null  float64\n",
            " 2   housing_median_age  20640 non-null  float64\n",
            " 3   total_rooms         20640 non-null  float64\n",
            " 4   total_bedrooms      20433 non-null  float64\n",
            " 5   population          20640 non-null  float64\n",
            " 6   households          20640 non-null  float64\n",
            " 7   median_income       20640 non-null  float64\n",
            " 8   median_house_value  20640 non-null  float64\n",
            " 9   ocean_proximity     20640 non-null  object \n",
            "dtypes: float64(9), object(1)\n",
            "memory usage: 1.6+ MB\n"
          ],
          "name": "stdout"
        }
      ]
    },
    {
      "cell_type": "code",
      "metadata": {
        "id": "UFqPTEWPANvp",
        "colab_type": "code",
        "outputId": "f163619d-b91e-43b3-de63-e7f287ec3870",
        "colab": {
          "base_uri": "https://localhost:8080/",
          "height": 119
        }
      },
      "source": [
        "# Única feature não-numérica\n",
        "housing[\"ocean_proximity\"].value_counts()"
      ],
      "execution_count": 0,
      "outputs": [
        {
          "output_type": "execute_result",
          "data": {
            "text/plain": [
              "<1H OCEAN     9136\n",
              "INLAND        6551\n",
              "NEAR OCEAN    2658\n",
              "NEAR BAY      2290\n",
              "ISLAND           5\n",
              "Name: ocean_proximity, dtype: int64"
            ]
          },
          "metadata": {
            "tags": []
          },
          "execution_count": 55
        }
      ]
    },
    {
      "cell_type": "code",
      "metadata": {
        "id": "FwrcBApyAQ4g",
        "colab_type": "code",
        "outputId": "22c52955-8ca1-4607-d1b2-431b9900d21e",
        "colab": {
          "base_uri": "https://localhost:8080/",
          "height": 297
        }
      },
      "source": [
        "# Resumo numérico, \"total_bedrooms\" nos mostra alguns desafios\n",
        "# SKILL NECESSÁRIA: Probabilidade/Estatística\n",
        "housing.describe()"
      ],
      "execution_count": 0,
      "outputs": [
        {
          "output_type": "execute_result",
          "data": {
            "text/html": [
              "<div>\n",
              "<style scoped>\n",
              "    .dataframe tbody tr th:only-of-type {\n",
              "        vertical-align: middle;\n",
              "    }\n",
              "\n",
              "    .dataframe tbody tr th {\n",
              "        vertical-align: top;\n",
              "    }\n",
              "\n",
              "    .dataframe thead th {\n",
              "        text-align: right;\n",
              "    }\n",
              "</style>\n",
              "<table border=\"1\" class=\"dataframe\">\n",
              "  <thead>\n",
              "    <tr style=\"text-align: right;\">\n",
              "      <th></th>\n",
              "      <th>longitude</th>\n",
              "      <th>latitude</th>\n",
              "      <th>housing_median_age</th>\n",
              "      <th>total_rooms</th>\n",
              "      <th>total_bedrooms</th>\n",
              "      <th>population</th>\n",
              "      <th>households</th>\n",
              "      <th>median_income</th>\n",
              "      <th>median_house_value</th>\n",
              "    </tr>\n",
              "  </thead>\n",
              "  <tbody>\n",
              "    <tr>\n",
              "      <th>count</th>\n",
              "      <td>20640.000000</td>\n",
              "      <td>20640.000000</td>\n",
              "      <td>20640.000000</td>\n",
              "      <td>20640.000000</td>\n",
              "      <td>20433.000000</td>\n",
              "      <td>20640.000000</td>\n",
              "      <td>20640.000000</td>\n",
              "      <td>20640.000000</td>\n",
              "      <td>20640.000000</td>\n",
              "    </tr>\n",
              "    <tr>\n",
              "      <th>mean</th>\n",
              "      <td>-119.569704</td>\n",
              "      <td>35.631861</td>\n",
              "      <td>28.639486</td>\n",
              "      <td>2635.763081</td>\n",
              "      <td>537.870553</td>\n",
              "      <td>1425.476744</td>\n",
              "      <td>499.539680</td>\n",
              "      <td>3.870671</td>\n",
              "      <td>206855.816909</td>\n",
              "    </tr>\n",
              "    <tr>\n",
              "      <th>std</th>\n",
              "      <td>2.003532</td>\n",
              "      <td>2.135952</td>\n",
              "      <td>12.585558</td>\n",
              "      <td>2181.615252</td>\n",
              "      <td>421.385070</td>\n",
              "      <td>1132.462122</td>\n",
              "      <td>382.329753</td>\n",
              "      <td>1.899822</td>\n",
              "      <td>115395.615874</td>\n",
              "    </tr>\n",
              "    <tr>\n",
              "      <th>min</th>\n",
              "      <td>-124.350000</td>\n",
              "      <td>32.540000</td>\n",
              "      <td>1.000000</td>\n",
              "      <td>2.000000</td>\n",
              "      <td>1.000000</td>\n",
              "      <td>3.000000</td>\n",
              "      <td>1.000000</td>\n",
              "      <td>0.499900</td>\n",
              "      <td>14999.000000</td>\n",
              "    </tr>\n",
              "    <tr>\n",
              "      <th>25%</th>\n",
              "      <td>-121.800000</td>\n",
              "      <td>33.930000</td>\n",
              "      <td>18.000000</td>\n",
              "      <td>1447.750000</td>\n",
              "      <td>296.000000</td>\n",
              "      <td>787.000000</td>\n",
              "      <td>280.000000</td>\n",
              "      <td>2.563400</td>\n",
              "      <td>119600.000000</td>\n",
              "    </tr>\n",
              "    <tr>\n",
              "      <th>50%</th>\n",
              "      <td>-118.490000</td>\n",
              "      <td>34.260000</td>\n",
              "      <td>29.000000</td>\n",
              "      <td>2127.000000</td>\n",
              "      <td>435.000000</td>\n",
              "      <td>1166.000000</td>\n",
              "      <td>409.000000</td>\n",
              "      <td>3.534800</td>\n",
              "      <td>179700.000000</td>\n",
              "    </tr>\n",
              "    <tr>\n",
              "      <th>75%</th>\n",
              "      <td>-118.010000</td>\n",
              "      <td>37.710000</td>\n",
              "      <td>37.000000</td>\n",
              "      <td>3148.000000</td>\n",
              "      <td>647.000000</td>\n",
              "      <td>1725.000000</td>\n",
              "      <td>605.000000</td>\n",
              "      <td>4.743250</td>\n",
              "      <td>264725.000000</td>\n",
              "    </tr>\n",
              "    <tr>\n",
              "      <th>max</th>\n",
              "      <td>-114.310000</td>\n",
              "      <td>41.950000</td>\n",
              "      <td>52.000000</td>\n",
              "      <td>39320.000000</td>\n",
              "      <td>6445.000000</td>\n",
              "      <td>35682.000000</td>\n",
              "      <td>6082.000000</td>\n",
              "      <td>15.000100</td>\n",
              "      <td>500001.000000</td>\n",
              "    </tr>\n",
              "  </tbody>\n",
              "</table>\n",
              "</div>"
            ],
            "text/plain": [
              "          longitude      latitude  ...  median_income  median_house_value\n",
              "count  20640.000000  20640.000000  ...   20640.000000        20640.000000\n",
              "mean    -119.569704     35.631861  ...       3.870671       206855.816909\n",
              "std        2.003532      2.135952  ...       1.899822       115395.615874\n",
              "min     -124.350000     32.540000  ...       0.499900        14999.000000\n",
              "25%     -121.800000     33.930000  ...       2.563400       119600.000000\n",
              "50%     -118.490000     34.260000  ...       3.534800       179700.000000\n",
              "75%     -118.010000     37.710000  ...       4.743250       264725.000000\n",
              "max     -114.310000     41.950000  ...      15.000100       500001.000000\n",
              "\n",
              "[8 rows x 9 columns]"
            ]
          },
          "metadata": {
            "tags": []
          },
          "execution_count": 56
        }
      ]
    },
    {
      "cell_type": "code",
      "metadata": {
        "id": "2n_uJKbeBtdq",
        "colab_type": "code",
        "outputId": "6a11c7c0-3e98-4185-8e3a-6984f1267056",
        "colab": {
          "base_uri": "https://localhost:8080/",
          "height": 879
        }
      },
      "source": [
        "# SKILL NECESSÁRIA: Probabilidade/Estatística, Dataviz, Análise de Dados\n",
        "import matplotlib.pyplot as plt\n",
        "housing.hist(bins=50, figsize=(20,15))\n",
        "plt.show()"
      ],
      "execution_count": 0,
      "outputs": [
        {
          "output_type": "display_data",
          "data": {
            "image/png": "[encoded data removed]",
            "text/plain": [
              "<Figure size 1440x1080 with 9 Axes>"
            ]
          },
          "metadata": {
            "tags": [],
            "needs_background": "light"
          }
        }
      ]
    },
    {
      "cell_type": "markdown",
      "metadata": {
        "id": "lrGPbsD1s8tv",
        "colab_type": "text"
      },
      "source": [
        "1. **\"median_income\"** não está expressa em dólares, sendo 15000 o valor para RENDA ALTA e 0,5 o valor para RENDA BAIXA\n",
        "2. **\"housing_median_age\"** possui valores \"estranhos\", assim como **\"housing_medium_value\"**(target). Pode ser necessário coletar dados melhores ou remover amostras\n",
        "3. Atributos estão em escalas diferentes: não em dólar, ano...\n",
        "4. Aplicar modelos preditivos agora pode ser um grande problema: note que alguns histogramas apresentam cauda longa a direita, enquanto outros não(pode dificultar a generalização)."
      ]
    },
    {
      "cell_type": "markdown",
      "metadata": {
        "id": "596ycXDs3635",
        "colab_type": "text"
      },
      "source": [
        "### PREPARAÇÃO DOS DADOS"
      ]
    },
    {
      "cell_type": "markdown",
      "metadata": {
        "id": "pBAuAzQfGkeF",
        "colab_type": "text"
      },
      "source": [
        "### TRAIN/TEST SPLIT\n",
        "\n",
        "---\n",
        "\n",
        "![alt text](data:image/png;base64,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)"
      ]
    },
    {
      "cell_type": "code",
      "metadata": {
        "id": "pgf97TR3HAUD",
        "colab_type": "code",
        "outputId": "80d1b4c8-2569-4e12-f266-f481c85c65d4",
        "colab": {
          "base_uri": "https://localhost:8080/",
          "height": 85
        }
      },
      "source": [
        "!pip install scikit-learn"
      ],
      "execution_count": 0,
      "outputs": [
        {
          "output_type": "stream",
          "text": [
            "Requirement already satisfied: scikit-learn in /usr/local/lib/python3.6/dist-packages (0.22.2.post1)\n",
            "Requirement already satisfied: scipy>=0.17.0 in /usr/local/lib/python3.6/dist-packages (from scikit-learn) (1.4.1)\n",
            "Requirement already satisfied: numpy>=1.11.0 in /usr/local/lib/python3.6/dist-packages (from scikit-learn) (1.18.2)\n",
            "Requirement already satisfied: joblib>=0.11 in /usr/local/lib/python3.6/dist-packages (from scikit-learn) (0.14.1)\n"
          ],
          "name": "stdout"
        }
      ]
    },
    {
      "cell_type": "code",
      "metadata": {
        "id": "ygZEq9IoHJTE",
        "colab_type": "code",
        "colab": {}
      },
      "source": [
        "from sklearn import datasets\n",
        "iris = datasets.load_iris()\n",
        "digits = datasets.load_digits()"
      ],
      "execution_count": 0,
      "outputs": []
    },
    {
      "cell_type": "code",
      "metadata": {
        "id": "lEyy8qsIGm7_",
        "colab_type": "code",
        "colab": {}
      },
      "source": [
        "from sklearn.model_selection import train_test_split\n",
        "train_set, test_set = train_test_split(housing, test_size=0.2, random_state=42)"
      ],
      "execution_count": 0,
      "outputs": []
    },
    {
      "cell_type": "code",
      "metadata": {
        "id": "BGywwc5tHY5z",
        "colab_type": "code",
        "outputId": "cc1d6968-ddf0-4013-8bad-334a56452b81",
        "colab": {
          "base_uri": "https://localhost:8080/",
          "height": 204
        }
      },
      "source": [
        "test_set.head()"
      ],
      "execution_count": 0,
      "outputs": [
        {
          "output_type": "execute_result",
          "data": {
            "text/html": [
              "<div>\n",
              "<style scoped>\n",
              "    .dataframe tbody tr th:only-of-type {\n",
              "        vertical-align: middle;\n",
              "    }\n",
              "\n",
              "    .dataframe tbody tr th {\n",
              "        vertical-align: top;\n",
              "    }\n",
              "\n",
              "    .dataframe thead th {\n",
              "        text-align: right;\n",
              "    }\n",
              "</style>\n",
              "<table border=\"1\" class=\"dataframe\">\n",
              "  <thead>\n",
              "    <tr style=\"text-align: right;\">\n",
              "      <th></th>\n",
              "      <th>longitude</th>\n",
              "      <th>latitude</th>\n",
              "      <th>housing_median_age</th>\n",
              "      <th>total_rooms</th>\n",
              "      <th>total_bedrooms</th>\n",
              "      <th>population</th>\n",
              "      <th>households</th>\n",
              "      <th>median_income</th>\n",
              "      <th>median_house_value</th>\n",
              "      <th>ocean_proximity</th>\n",
              "    </tr>\n",
              "  </thead>\n",
              "  <tbody>\n",
              "    <tr>\n",
              "      <th>20046</th>\n",
              "      <td>-119.01</td>\n",
              "      <td>36.06</td>\n",
              "      <td>25.0</td>\n",
              "      <td>1505.0</td>\n",
              "      <td>NaN</td>\n",
              "      <td>1392.0</td>\n",
              "      <td>359.0</td>\n",
              "      <td>1.6812</td>\n",
              "      <td>47700.0</td>\n",
              "      <td>INLAND</td>\n",
              "    </tr>\n",
              "    <tr>\n",
              "      <th>3024</th>\n",
              "      <td>-119.46</td>\n",
              "      <td>35.14</td>\n",
              "      <td>30.0</td>\n",
              "      <td>2943.0</td>\n",
              "      <td>NaN</td>\n",
              "      <td>1565.0</td>\n",
              "      <td>584.0</td>\n",
              "      <td>2.5313</td>\n",
              "      <td>45800.0</td>\n",
              "      <td>INLAND</td>\n",
              "    </tr>\n",
              "    <tr>\n",
              "      <th>15663</th>\n",
              "      <td>-122.44</td>\n",
              "      <td>37.80</td>\n",
              "      <td>52.0</td>\n",
              "      <td>3830.0</td>\n",
              "      <td>NaN</td>\n",
              "      <td>1310.0</td>\n",
              "      <td>963.0</td>\n",
              "      <td>3.4801</td>\n",
              "      <td>500001.0</td>\n",
              "      <td>NEAR BAY</td>\n",
              "    </tr>\n",
              "    <tr>\n",
              "      <th>20484</th>\n",
              "      <td>-118.72</td>\n",
              "      <td>34.28</td>\n",
              "      <td>17.0</td>\n",
              "      <td>3051.0</td>\n",
              "      <td>NaN</td>\n",
              "      <td>1705.0</td>\n",
              "      <td>495.0</td>\n",
              "      <td>5.7376</td>\n",
              "      <td>218600.0</td>\n",
              "      <td>&lt;1H OCEAN</td>\n",
              "    </tr>\n",
              "    <tr>\n",
              "      <th>9814</th>\n",
              "      <td>-121.93</td>\n",
              "      <td>36.62</td>\n",
              "      <td>34.0</td>\n",
              "      <td>2351.0</td>\n",
              "      <td>NaN</td>\n",
              "      <td>1063.0</td>\n",
              "      <td>428.0</td>\n",
              "      <td>3.7250</td>\n",
              "      <td>278000.0</td>\n",
              "      <td>NEAR OCEAN</td>\n",
              "    </tr>\n",
              "  </tbody>\n",
              "</table>\n",
              "</div>"
            ],
            "text/plain": [
              "       longitude  latitude  ...  median_house_value  ocean_proximity\n",
              "20046    -119.01     36.06  ...             47700.0           INLAND\n",
              "3024     -119.46     35.14  ...             45800.0           INLAND\n",
              "15663    -122.44     37.80  ...            500001.0         NEAR BAY\n",
              "20484    -118.72     34.28  ...            218600.0        <1H OCEAN\n",
              "9814     -121.93     36.62  ...            278000.0       NEAR OCEAN\n",
              "\n",
              "[5 rows x 10 columns]"
            ]
          },
          "metadata": {
            "tags": []
          },
          "execution_count": 18
        }
      ]
    },
    {
      "cell_type": "code",
      "metadata": {
        "id": "Qo6Fg_SsHeYV",
        "colab_type": "code",
        "outputId": "15723019-285d-4f9a-ca77-8f0032d11a53",
        "colab": {
          "base_uri": "https://localhost:8080/",
          "height": 282
        }
      },
      "source": [
        "housing[\"median_income\"].hist()"
      ],
      "execution_count": 0,
      "outputs": [
        {
          "output_type": "execute_result",
          "data": {
            "text/plain": [
              "<matplotlib.axes._subplots.AxesSubplot at 0x7f6164ed4c18>"
            ]
          },
          "metadata": {
            "tags": []
          },
          "execution_count": 19
        },
        {
          "output_type": "display_data",
          "data": {
            "image/png": "[encoded data removed]",
            "text/plain": [
              "<Figure size 432x288 with 1 Axes>"
            ]
          },
          "metadata": {
            "tags": [],
            "needs_background": "light"
          }
        }
      ]
    },
    {
      "cell_type": "markdown",
      "metadata": {
        "id": "ROmmkusIIsic",
        "colab_type": "text"
      },
      "source": [
        "\"median_incoming\" está agrupada em torno de 2 a 5 (dezenas de milhares de dólares), mas algumas rendas medianas vão muito além de 6. Isto pode enviesar nossos dados, ou seja, forçar uma tendência na hora da predição. Estratificar dados se faz necessário para que as amostras coletadas sejam proporcionais. Utilizaremos numpy para normalizar estes dados e criar novas features."
      ]
    },
    {
      "cell_type": "markdown",
      "metadata": {
        "id": "Dztb3epDJSOg",
        "colab_type": "text"
      },
      "source": [
        "### FEATURE ENGINEERING"
      ]
    },
    {
      "cell_type": "code",
      "metadata": {
        "id": "xTtS8rq0JKsC",
        "colab_type": "code",
        "colab": {}
      },
      "source": [
        "import numpy as np\n",
        "housing[\"income_cat\"] = np.ceil(housing[\"median_income\"] / 1.5) #1.5 serve para padronizar os valores que serão exibidos depois\n",
        "housing[\"income_cat\"].where(housing[\"income_cat\"] < 5, 5.0, inplace=True) #queremos substituir o housing[\"income_cat\"] que for menor que 5 por 5.0"
      ],
      "execution_count": 0,
      "outputs": []
    },
    {
      "cell_type": "code",
      "metadata": {
        "id": "DnoRKJflKXzV",
        "colab_type": "code",
        "colab": {}
      },
      "source": [
        "from sklearn.model_selection import StratifiedShuffleSplit #estratificação\n",
        "split = StratifiedShuffleSplit(n_splits=1, test_size=0.2, random_state=42)\n",
        "\n",
        "for train_index, test_index in split.split(housing, housing[\"income_cat\"]):\n",
        " strat_train_set = housing.loc[train_index] #loc de localizar eles dentro do dataset, os inserindo dentro de uma nova variável\n",
        " strat_test_set = housing.loc[test_index]"
      ],
      "execution_count": 0,
      "outputs": []
    },
    {
      "cell_type": "code",
      "metadata": {
        "id": "uV2CRRuXKd7c",
        "colab_type": "code",
        "outputId": "c4285993-adf5-44a4-e72c-f4dde50d2d60",
        "colab": {
          "base_uri": "https://localhost:8080/",
          "height": 119
        }
      },
      "source": [
        "# Dividimos os valores pelo tamanho do dataset e assim verificamos as proporções de \"income_cat\"\n",
        "housing[\"income_cat\"].value_counts() / len(housing) #comprimento do conjunto de dados"
      ],
      "execution_count": 0,
      "outputs": [
        {
          "output_type": "execute_result",
          "data": {
            "text/plain": [
              "3.0    0.350581\n",
              "2.0    0.318847\n",
              "4.0    0.176308\n",
              "5.0    0.114438\n",
              "1.0    0.039826\n",
              "Name: income_cat, dtype: float64"
            ]
          },
          "metadata": {
            "tags": []
          },
          "execution_count": 60
        }
      ]
    },
    {
      "cell_type": "markdown",
      "metadata": {
        "id": "ilMNR3hSK39F",
        "colab_type": "text"
      },
      "source": [
        "### DATAVIZ"
      ]
    },
    {
      "cell_type": "code",
      "metadata": {
        "id": "azO-Nu5YK3rZ",
        "colab_type": "code",
        "outputId": "9bc2de6b-27e2-4a4e-9ca5-a70ab185111a",
        "colab": {
          "base_uri": "https://localhost:8080/",
          "height": 296
        }
      },
      "source": [
        "housing.plot(kind=\"scatter\", x=\"longitude\", y=\"latitude\", alpha=0.1) #alpha se refere a densidade dos pontos"
      ],
      "execution_count": 0,
      "outputs": [
        {
          "output_type": "execute_result",
          "data": {
            "text/plain": [
              "<matplotlib.axes._subplots.AxesSubplot at 0x7f615e483240>"
            ]
          },
          "metadata": {
            "tags": []
          },
          "execution_count": 61
        },
        {
          "output_type": "display_data",
          "data": {
            "image/png": "[encoded data removed]",
            "text/plain": [
              "<Figure size 432x288 with 1 Axes>"
            ]
          },
          "metadata": {
            "tags": [],
            "needs_background": "light"
          }
        }
      ]
    },
    {
      "cell_type": "code",
      "metadata": {
        "id": "AE7gQKzpLFoH",
        "colab_type": "code",
        "outputId": "6fa5f134-08d5-4ac0-aa8f-c41aa2cd0fc5",
        "colab": {
          "base_uri": "https://localhost:8080/",
          "height": 273
        }
      },
      "source": [
        "# A localização afeta o preço destes imóveis? \n",
        "housing.plot(kind=\"scatter\", x=\"longitude\", y=\"latitude\", alpha=0.4,\n",
        " s=housing[\"population\"]/100, label=\"population\", #é adicionado a população e o preço médio\n",
        " c=\"median_house_value\", cmap=plt.get_cmap(\"jet\"), colorbar=True,)\n",
        "plt.legend()"
      ],
      "execution_count": 0,
      "outputs": [
        {
          "output_type": "execute_result",
          "data": {
            "text/plain": [
              "<matplotlib.legend.Legend at 0x7f615e3bc940>"
            ]
          },
          "metadata": {
            "tags": []
          },
          "execution_count": 62
        },
        {
          "output_type": "display_data",
          "data": {
            "image/png": "[encoded data removed]",
            "text/plain": [
              "<Figure size 432x288 with 2 Axes>"
            ]
          },
          "metadata": {
            "tags": [],
            "needs_background": "light"
          }
        }
      ]
    },
    {
      "cell_type": "code",
      "metadata": {
        "id": "J8ZIvGCaLSDQ",
        "colab_type": "code",
        "outputId": "16384344-22a8-4120-dbd4-a26d04764531",
        "colab": {
          "base_uri": "https://localhost:8080/",
          "height": 204
        }
      },
      "source": [
        "# Suficiente para uma correlação? valores entre -1 a 1, onde 1 significa CORRELAÇÃO POSITIVA FORTE\n",
        "# Coeficiente de correlação de Pearson\n",
        "corr_matrix = housing.corr() #housing.corr nos mostra a correlação (o preço e a latitude estão relacionados?)\n",
        "corr_matrix[\"median_house_value\"].sort_values(ascending=False)\n",
        "#1 significa correalação positiva forte e abaixo disso correlação fraca\n",
        "#A conclusão que podemos ter em relação ao resultado é que (median_house_value deu 1 pois é dela que está sendo a correlação, \n",
        "#ou seja median_house_value corresponde totalmente a median_house_value ) possui maior correalação com median_income (médio de\n",
        "#ganho da pessoa que comprou a casa por um preço superior)"
      ],
      "execution_count": 0,
      "outputs": [
        {
          "output_type": "execute_result",
          "data": {
            "text/plain": [
              "median_house_value    1.000000\n",
              "median_income         0.688075\n",
              "income_cat            0.643892\n",
              "total_rooms           0.134153\n",
              "housing_median_age    0.105623\n",
              "households            0.065843\n",
              "total_bedrooms        0.049686\n",
              "population           -0.024650\n",
              "longitude            -0.045967\n",
              "latitude             -0.144160\n",
              "Name: median_house_value, dtype: float64"
            ]
          },
          "metadata": {
            "tags": []
          },
          "execution_count": 63
        }
      ]
    },
    {
      "cell_type": "code",
      "metadata": {
        "id": "RbWXXDfLLx1t",
        "colab_type": "code",
        "outputId": "e1ae39ed-8c08-46bd-a608-d123e4c8b5d6",
        "colab": {
          "base_uri": "https://localhost:8080/",
          "height": 807
        }
      },
      "source": [
        "# Correlação com PANDAS\n",
        "from pandas.plotting import scatter_matrix\n",
        "attributes = [\"median_house_value\", \"median_income\", \"total_rooms\",\"housing_median_age\"]\n",
        "scatter_matrix(housing[attributes], figsize=(12, 8))"
      ],
      "execution_count": 0,
      "outputs": [
        {
          "output_type": "execute_result",
          "data": {
            "text/plain": [
              "array([[<matplotlib.axes._subplots.AxesSubplot object at 0x7f615e34a160>,\n",
              "        <matplotlib.axes._subplots.AxesSubplot object at 0x7f615e369358>,\n",
              "        <matplotlib.axes._subplots.AxesSubplot object at 0x7f615e31a6d8>,\n",
              "        <matplotlib.axes._subplots.AxesSubplot object at 0x7f615e2cca58>],\n",
              "       [<matplotlib.axes._subplots.AxesSubplot object at 0x7f615e27fdd8>,\n",
              "        <matplotlib.axes._subplots.AxesSubplot object at 0x7f615e23e198>,\n",
              "        <matplotlib.axes._subplots.AxesSubplot object at 0x7f615e26e518>,\n",
              "        <matplotlib.axes._subplots.AxesSubplot object at 0x7f615e221860>],\n",
              "       [<matplotlib.axes._subplots.AxesSubplot object at 0x7f615e2218d0>,\n",
              "        <matplotlib.axes._subplots.AxesSubplot object at 0x7f615e186f98>,\n",
              "        <matplotlib.axes._subplots.AxesSubplot object at 0x7f615e143358>,\n",
              "        <matplotlib.axes._subplots.AxesSubplot object at 0x7f615e0f56d8>],\n",
              "       [<matplotlib.axes._subplots.AxesSubplot object at 0x7f615e127a58>,\n",
              "        <matplotlib.axes._subplots.AxesSubplot object at 0x7f615e0dadd8>,\n",
              "        <matplotlib.axes._subplots.AxesSubplot object at 0x7f615e097198>,\n",
              "        <matplotlib.axes._subplots.AxesSubplot object at 0x7f615e04a518>]],\n",
              "      dtype=object)"
            ]
          },
          "metadata": {
            "tags": []
          },
          "execution_count": 64
        },
        {
          "output_type": "display_data",
          "data": {
            "image/png": "[encoded data removed]",
            "text/plain": [
              "<Figure size 864x576 with 16 Axes>"
            ]
          },
          "metadata": {
            "tags": [],
            "needs_background": "light"
          }
        }
      ]
    },
    {
      "cell_type": "markdown",
      "metadata": {
        "id": "ee4Ohlr2MpfN",
        "colab_type": "text"
      },
      "source": [
        "### DATA CLEANING"
      ]
    },
    {
      "cell_type": "code",
      "metadata": {
        "id": "2ku3aHoRnc2q",
        "colab_type": "code",
        "colab": {}
      },
      "source": [
        "# Removendo nossa target dos dados de TREINO\n",
        "housing = strat_train_set.drop(\"median_house_value\", axis=1) #axis=1 se refere a coluna inteira\n",
        "housing_labels = strat_train_set[\"median_house_value\"].copy() # realizamos uma cópia e armazenamos na variável \"housing_labels\", onde serão\n",
        "#armazenadas as respostas"
      ],
      "execution_count": 0,
      "outputs": []
    },
    {
      "cell_type": "code",
      "metadata": {
        "id": "IlGCvia7ntcx",
        "colab_type": "code",
        "outputId": "4d1bf1aa-13f2-4e1e-d986-49d6c7a6f2f4",
        "colab": {
          "base_uri": "https://localhost:8080/",
          "height": 204
        }
      },
      "source": [
        "# Verificando dados ausentes\n",
        "sample_incomplete_rows = housing[housing.isnull().any(axis=1)].head() \n",
        "sample_incomplete_rows\n",
        "\n",
        "#Visualizando o resultado podemos ver que faltam dados no total_bedrooms pois \"NaN\""
      ],
      "execution_count": 0,
      "outputs": [
        {
          "output_type": "execute_result",
          "data": {
            "text/html": [
              "<div>\n",
              "<style scoped>\n",
              "    .dataframe tbody tr th:only-of-type {\n",
              "        vertical-align: middle;\n",
              "    }\n",
              "\n",
              "    .dataframe tbody tr th {\n",
              "        vertical-align: top;\n",
              "    }\n",
              "\n",
              "    .dataframe thead th {\n",
              "        text-align: right;\n",
              "    }\n",
              "</style>\n",
              "<table border=\"1\" class=\"dataframe\">\n",
              "  <thead>\n",
              "    <tr style=\"text-align: right;\">\n",
              "      <th></th>\n",
              "      <th>longitude</th>\n",
              "      <th>latitude</th>\n",
              "      <th>housing_median_age</th>\n",
              "      <th>total_rooms</th>\n",
              "      <th>total_bedrooms</th>\n",
              "      <th>population</th>\n",
              "      <th>households</th>\n",
              "      <th>median_income</th>\n",
              "      <th>ocean_proximity</th>\n",
              "      <th>income_cat</th>\n",
              "    </tr>\n",
              "  </thead>\n",
              "  <tbody>\n",
              "    <tr>\n",
              "      <th>4629</th>\n",
              "      <td>-118.30</td>\n",
              "      <td>34.07</td>\n",
              "      <td>18.0</td>\n",
              "      <td>3759.0</td>\n",
              "      <td>NaN</td>\n",
              "      <td>3296.0</td>\n",
              "      <td>1462.0</td>\n",
              "      <td>2.2708</td>\n",
              "      <td>&lt;1H OCEAN</td>\n",
              "      <td>2.0</td>\n",
              "    </tr>\n",
              "    <tr>\n",
              "      <th>6068</th>\n",
              "      <td>-117.86</td>\n",
              "      <td>34.01</td>\n",
              "      <td>16.0</td>\n",
              "      <td>4632.0</td>\n",
              "      <td>NaN</td>\n",
              "      <td>3038.0</td>\n",
              "      <td>727.0</td>\n",
              "      <td>5.1762</td>\n",
              "      <td>&lt;1H OCEAN</td>\n",
              "      <td>4.0</td>\n",
              "    </tr>\n",
              "    <tr>\n",
              "      <th>17923</th>\n",
              "      <td>-121.97</td>\n",
              "      <td>37.35</td>\n",
              "      <td>30.0</td>\n",
              "      <td>1955.0</td>\n",
              "      <td>NaN</td>\n",
              "      <td>999.0</td>\n",
              "      <td>386.0</td>\n",
              "      <td>4.6328</td>\n",
              "      <td>&lt;1H OCEAN</td>\n",
              "      <td>4.0</td>\n",
              "    </tr>\n",
              "    <tr>\n",
              "      <th>13656</th>\n",
              "      <td>-117.30</td>\n",
              "      <td>34.05</td>\n",
              "      <td>6.0</td>\n",
              "      <td>2155.0</td>\n",
              "      <td>NaN</td>\n",
              "      <td>1039.0</td>\n",
              "      <td>391.0</td>\n",
              "      <td>1.6675</td>\n",
              "      <td>INLAND</td>\n",
              "      <td>2.0</td>\n",
              "    </tr>\n",
              "    <tr>\n",
              "      <th>19252</th>\n",
              "      <td>-122.79</td>\n",
              "      <td>38.48</td>\n",
              "      <td>7.0</td>\n",
              "      <td>6837.0</td>\n",
              "      <td>NaN</td>\n",
              "      <td>3468.0</td>\n",
              "      <td>1405.0</td>\n",
              "      <td>3.1662</td>\n",
              "      <td>&lt;1H OCEAN</td>\n",
              "      <td>3.0</td>\n",
              "    </tr>\n",
              "  </tbody>\n",
              "</table>\n",
              "</div>"
            ],
            "text/plain": [
              "       longitude  latitude  ...  ocean_proximity  income_cat\n",
              "4629     -118.30     34.07  ...        <1H OCEAN         2.0\n",
              "6068     -117.86     34.01  ...        <1H OCEAN         4.0\n",
              "17923    -121.97     37.35  ...        <1H OCEAN         4.0\n",
              "13656    -117.30     34.05  ...           INLAND         2.0\n",
              "19252    -122.79     38.48  ...        <1H OCEAN         3.0\n",
              "\n",
              "[5 rows x 10 columns]"
            ]
          },
          "metadata": {
            "tags": []
          },
          "execution_count": 66
        }
      ]
    },
    {
      "cell_type": "code",
      "metadata": {
        "id": "pdPOXOUaoR3b",
        "colab_type": "code",
        "colab": {}
      },
      "source": [
        "# Utilizando Simple Imputer https://scikit-learn.org/stable/modules/generated/sklearn.impute.SimpleImputer.html\n",
        "from sklearn.impute import SimpleImputer \n",
        "imputer = SimpleImputer(strategy=\"median\")"
      ],
      "execution_count": 0,
      "outputs": []
    },
    {
      "cell_type": "code",
      "metadata": {
        "id": "sjGnJUquMq7e",
        "colab_type": "code",
        "colab": {}
      },
      "source": [
        "# Limpando dados ausentes(missing values)\n",
        "sample_incomplete_rows.drop(\"total_bedrooms\", axis=1)  \n",
        "median = housing[\"total_bedrooms\"].median()\n"
      ],
      "execution_count": 0,
      "outputs": []
    },
    {
      "cell_type": "code",
      "metadata": {
        "id": "c2dctT40m_eA",
        "colab_type": "code",
        "colab": {}
      },
      "source": [
        "# Removemos a categoria não-numérica\n",
        "housing_num = housing.drop('ocean_proximity', axis=1) #ocean_proximity é um categoria não numérica"
      ],
      "execution_count": 0,
      "outputs": []
    },
    {
      "cell_type": "code",
      "metadata": {
        "id": "AzpDsNHdonle",
        "colab_type": "code",
        "outputId": "d74e1cd4-ed86-45c4-81fe-bb1529710376",
        "colab": {
          "base_uri": "https://localhost:8080/",
          "height": 51
        }
      },
      "source": [
        "imputer.fit(housing_num) #treinamos o nosso imputer"
      ],
      "execution_count": 0,
      "outputs": [
        {
          "output_type": "execute_result",
          "data": {
            "text/plain": [
              "SimpleImputer(add_indicator=False, copy=True, fill_value=None,\n",
              "              missing_values=nan, strategy='median', verbose=0)"
            ]
          },
          "metadata": {
            "tags": []
          },
          "execution_count": 70
        }
      ]
    },
    {
      "cell_type": "code",
      "metadata": {
        "id": "UHP4Qmhxov7p",
        "colab_type": "code",
        "colab": {}
      },
      "source": [
        "# Transformaremos agora o conjunto TREINO com missing values substituidos pela mediana\n",
        "X = imputer.transform(housing_num)"
      ],
      "execution_count": 0,
      "outputs": []
    },
    {
      "cell_type": "code",
      "metadata": {
        "id": "Lmca1NPdo4PL",
        "colab_type": "code",
        "outputId": "d8fd3143-8508-4916-8f6c-f51d58e0f84b",
        "colab": {
          "base_uri": "https://localhost:8080/",
          "height": 204
        }
      },
      "source": [
        "housing_tr = pd.DataFrame(X, columns=housing_num.columns,index=housing.index)\n",
        "housing_tr.head()"
      ],
      "execution_count": 0,
      "outputs": [
        {
          "output_type": "execute_result",
          "data": {
            "text/html": [
              "<div>\n",
              "<style scoped>\n",
              "    .dataframe tbody tr th:only-of-type {\n",
              "        vertical-align: middle;\n",
              "    }\n",
              "\n",
              "    .dataframe tbody tr th {\n",
              "        vertical-align: top;\n",
              "    }\n",
              "\n",
              "    .dataframe thead th {\n",
              "        text-align: right;\n",
              "    }\n",
              "</style>\n",
              "<table border=\"1\" class=\"dataframe\">\n",
              "  <thead>\n",
              "    <tr style=\"text-align: right;\">\n",
              "      <th></th>\n",
              "      <th>longitude</th>\n",
              "      <th>latitude</th>\n",
              "      <th>housing_median_age</th>\n",
              "      <th>total_rooms</th>\n",
              "      <th>total_bedrooms</th>\n",
              "      <th>population</th>\n",
              "      <th>households</th>\n",
              "      <th>median_income</th>\n",
              "      <th>income_cat</th>\n",
              "    </tr>\n",
              "  </thead>\n",
              "  <tbody>\n",
              "    <tr>\n",
              "      <th>17606</th>\n",
              "      <td>-121.89</td>\n",
              "      <td>37.29</td>\n",
              "      <td>38.0</td>\n",
              "      <td>1568.0</td>\n",
              "      <td>351.0</td>\n",
              "      <td>710.0</td>\n",
              "      <td>339.0</td>\n",
              "      <td>2.7042</td>\n",
              "      <td>2.0</td>\n",
              "    </tr>\n",
              "    <tr>\n",
              "      <th>18632</th>\n",
              "      <td>-121.93</td>\n",
              "      <td>37.05</td>\n",
              "      <td>14.0</td>\n",
              "      <td>679.0</td>\n",
              "      <td>108.0</td>\n",
              "      <td>306.0</td>\n",
              "      <td>113.0</td>\n",
              "      <td>6.4214</td>\n",
              "      <td>5.0</td>\n",
              "    </tr>\n",
              "    <tr>\n",
              "      <th>14650</th>\n",
              "      <td>-117.20</td>\n",
              "      <td>32.77</td>\n",
              "      <td>31.0</td>\n",
              "      <td>1952.0</td>\n",
              "      <td>471.0</td>\n",
              "      <td>936.0</td>\n",
              "      <td>462.0</td>\n",
              "      <td>2.8621</td>\n",
              "      <td>2.0</td>\n",
              "    </tr>\n",
              "    <tr>\n",
              "      <th>3230</th>\n",
              "      <td>-119.61</td>\n",
              "      <td>36.31</td>\n",
              "      <td>25.0</td>\n",
              "      <td>1847.0</td>\n",
              "      <td>371.0</td>\n",
              "      <td>1460.0</td>\n",
              "      <td>353.0</td>\n",
              "      <td>1.8839</td>\n",
              "      <td>2.0</td>\n",
              "    </tr>\n",
              "    <tr>\n",
              "      <th>3555</th>\n",
              "      <td>-118.59</td>\n",
              "      <td>34.23</td>\n",
              "      <td>17.0</td>\n",
              "      <td>6592.0</td>\n",
              "      <td>1525.0</td>\n",
              "      <td>4459.0</td>\n",
              "      <td>1463.0</td>\n",
              "      <td>3.0347</td>\n",
              "      <td>3.0</td>\n",
              "    </tr>\n",
              "  </tbody>\n",
              "</table>\n",
              "</div>"
            ],
            "text/plain": [
              "       longitude  latitude  ...  median_income  income_cat\n",
              "17606    -121.89     37.29  ...         2.7042         2.0\n",
              "18632    -121.93     37.05  ...         6.4214         5.0\n",
              "14650    -117.20     32.77  ...         2.8621         2.0\n",
              "3230     -119.61     36.31  ...         1.8839         2.0\n",
              "3555     -118.59     34.23  ...         3.0347         3.0\n",
              "\n",
              "[5 rows x 9 columns]"
            ]
          },
          "metadata": {
            "tags": []
          },
          "execution_count": 72
        }
      ]
    },
    {
      "cell_type": "markdown",
      "metadata": {
        "id": "YLrv3nRewZRz",
        "colab_type": "text"
      },
      "source": [
        "***Estimadores:*** Qualquer objeto que possa estimar alguns parâmetros com base em um conjunto de dados é chamado de estimador (por exemplo, um imputador é um estimador). A estimativa em si é realizada pelo método fit() e utiliza apenas um conjunto de dados como parâmetro (ou dois para algoritmos de aprendizado supervisionado; o segundo conjunto de dados contém os rótulos). Qualquer outro parâmetro necessário para orientar o processo de estimativa é considerado um hiperparâmetro (como a estratégia de um imputador) e deve ser definido como uma variável de instância (geralmente via parâmetro construtor).\n",
        "\n",
        "---\n",
        "\n",
        "***Transformadores:*** Alguns estimadores (como um imputador) também podem transformar um conjunto de dados; estes são chamados de transformadores. Mais uma vez, a API é bastante simples: a transformação é realizada pelo método transform() com o conjunto de dados para transformar como parâmetro. Retorna o conjunto de dados transformado. Essa transformação geralmente depende dos parâmetros aprendidos, como é o caso de um imputador. Todos os transformadores também têm um método de conveniência chamado fit_transform()"
      ]
    },
    {
      "cell_type": "code",
      "metadata": {
        "id": "wbwGX25RpHhQ",
        "colab_type": "code",
        "outputId": "85136498-ec04-4e3e-b294-a01ca8ad4ff5",
        "colab": {
          "base_uri": "https://localhost:8080/",
          "height": 204
        }
      },
      "source": [
        "# PRÉ PROCESSAMENTO DA FEATURE CATEGORICA \"ocean_proximity\"\n",
        "housing_cat = housing[['ocean_proximity']]\n",
        "housing_cat.head()"
      ],
      "execution_count": 0,
      "outputs": [
        {
          "output_type": "execute_result",
          "data": {
            "text/html": [
              "<div>\n",
              "<style scoped>\n",
              "    .dataframe tbody tr th:only-of-type {\n",
              "        vertical-align: middle;\n",
              "    }\n",
              "\n",
              "    .dataframe tbody tr th {\n",
              "        vertical-align: top;\n",
              "    }\n",
              "\n",
              "    .dataframe thead th {\n",
              "        text-align: right;\n",
              "    }\n",
              "</style>\n",
              "<table border=\"1\" class=\"dataframe\">\n",
              "  <thead>\n",
              "    <tr style=\"text-align: right;\">\n",
              "      <th></th>\n",
              "      <th>ocean_proximity</th>\n",
              "    </tr>\n",
              "  </thead>\n",
              "  <tbody>\n",
              "    <tr>\n",
              "      <th>17606</th>\n",
              "      <td>&lt;1H OCEAN</td>\n",
              "    </tr>\n",
              "    <tr>\n",
              "      <th>18632</th>\n",
              "      <td>&lt;1H OCEAN</td>\n",
              "    </tr>\n",
              "    <tr>\n",
              "      <th>14650</th>\n",
              "      <td>NEAR OCEAN</td>\n",
              "    </tr>\n",
              "    <tr>\n",
              "      <th>3230</th>\n",
              "      <td>INLAND</td>\n",
              "    </tr>\n",
              "    <tr>\n",
              "      <th>3555</th>\n",
              "      <td>&lt;1H OCEAN</td>\n",
              "    </tr>\n",
              "  </tbody>\n",
              "</table>\n",
              "</div>"
            ],
            "text/plain": [
              "      ocean_proximity\n",
              "17606       <1H OCEAN\n",
              "18632       <1H OCEAN\n",
              "14650      NEAR OCEAN\n",
              "3230           INLAND\n",
              "3555        <1H OCEAN"
            ]
          },
          "metadata": {
            "tags": []
          },
          "execution_count": 73
        }
      ]
    },
    {
      "cell_type": "code",
      "metadata": {
        "id": "M2ioAlXCNp5Z",
        "colab_type": "code",
        "outputId": "baa9a067-f46c-4bc8-be33-8abd30cb9197",
        "colab": {
          "base_uri": "https://localhost:8080/",
          "height": 34
        }
      },
      "source": [
        "# Lidando com dados NÃO-NUMÉRICOS \n",
        "# https://scikit-learn.org/stable/modules/generated/sklearn.preprocessing.LabelEncoder.html\n",
        "from sklearn.preprocessing import LabelEncoder\n",
        "encoder = LabelEncoder()\n",
        "housing_cat = housing[\"ocean_proximity\"]\n",
        "housing_cat_encoded = encoder.fit_transform(housing_cat)\n",
        "housing_cat_encoded"
      ],
      "execution_count": 0,
      "outputs": [
        {
          "output_type": "execute_result",
          "data": {
            "text/plain": [
              "array([0, 0, 4, ..., 1, 0, 3])"
            ]
          },
          "metadata": {
            "tags": []
          },
          "execution_count": 74
        }
      ]
    },
    {
      "cell_type": "code",
      "metadata": {
        "id": "zV-TIoOvPEov",
        "colab_type": "code",
        "outputId": "f0ee4a4c-5f2c-4a13-9dab-0da6e5e504f3",
        "colab": {
          "base_uri": "https://localhost:8080/",
          "height": 136
        }
      },
      "source": [
        "# BINARIZAR\n",
        "# É possível transformar inteiros em categorias, assim como categorias em números inteiros\n",
        "from sklearn.preprocessing import LabelBinarizer\n",
        "encoder = LabelBinarizer()\n",
        "housing_cat_1hot = encoder.fit_transform(housing_cat)\n",
        "housing_cat_1hot\n"
      ],
      "execution_count": 0,
      "outputs": [
        {
          "output_type": "execute_result",
          "data": {
            "text/plain": [
              "array([[1, 0, 0, 0, 0],\n",
              "       [1, 0, 0, 0, 0],\n",
              "       [0, 0, 0, 0, 1],\n",
              "       ...,\n",
              "       [0, 1, 0, 0, 0],\n",
              "       [1, 0, 0, 0, 0],\n",
              "       [0, 0, 0, 1, 0]])"
            ]
          },
          "metadata": {
            "tags": []
          },
          "execution_count": 75
        }
      ]
    },
    {
      "cell_type": "code",
      "metadata": {
        "id": "4obc-nAtO4UE",
        "colab_type": "code",
        "outputId": "a9f7c2fc-a641-4c1f-9655-8f178207383d",
        "colab": {
          "base_uri": "https://localhost:8080/",
          "height": 51
        }
      },
      "source": [
        "# ONE HOT ENCODER\n",
        "from sklearn.preprocessing import OneHotEncoder\n",
        "encoder = OneHotEncoder()\n",
        "housing_cat_1hot = encoder.fit_transform(housing_cat_encoded.reshape(-1,1))\n",
        "housing_cat_1hot"
      ],
      "execution_count": 0,
      "outputs": [
        {
          "output_type": "execute_result",
          "data": {
            "text/plain": [
              "<16512x5 sparse matrix of type '<class 'numpy.float64'>'\n",
              "\twith 16512 stored elements in Compressed Sparse Row format>"
            ]
          },
          "metadata": {
            "tags": []
          },
          "execution_count": 76
        }
      ]
    },
    {
      "cell_type": "code",
      "metadata": {
        "id": "Q8SNFLbDpkP8",
        "colab_type": "code",
        "outputId": "95b1398d-bcb3-4958-e09d-72deb02a262d",
        "colab": {
          "base_uri": "https://localhost:8080/",
          "height": 34
        }
      },
      "source": [
        "encoder.categories_"
      ],
      "execution_count": 0,
      "outputs": [
        {
          "output_type": "execute_result",
          "data": {
            "text/plain": [
              "[array([0, 1, 2, 3, 4])]"
            ]
          },
          "metadata": {
            "tags": []
          },
          "execution_count": 77
        }
      ]
    },
    {
      "cell_type": "code",
      "metadata": {
        "id": "gkgxtKUSPv1V",
        "colab_type": "code",
        "outputId": "8da11510-21e8-4b53-8d2d-f0639d00aff4",
        "colab": {
          "base_uri": "https://localhost:8080/",
          "height": 85
        }
      },
      "source": [
        "housing.columns"
      ],
      "execution_count": 0,
      "outputs": [
        {
          "output_type": "execute_result",
          "data": {
            "text/plain": [
              "Index(['longitude', 'latitude', 'housing_median_age', 'total_rooms',\n",
              "       'total_bedrooms', 'population', 'households', 'median_income',\n",
              "       'ocean_proximity', 'income_cat'],\n",
              "      dtype='object')"
            ]
          },
          "metadata": {
            "tags": []
          },
          "execution_count": 78
        }
      ]
    },
    {
      "cell_type": "markdown",
      "metadata": {
        "id": "sjJxHVUJqVwC",
        "colab_type": "text"
      },
      "source": [
        "### TRANSFORMAÇÃO CUSTOMIZADA\n",
        "\n",
        "---\n",
        "\n",
        "Feature Scaling é uma das mais importantes transformações de dados disponível, sendo geralmente dividida em \"Min/Max scaling\" e \"Standardization\"."
      ]
    },
    {
      "cell_type": "markdown",
      "metadata": {
        "id": "ZOJETU0xrvyV",
        "colab_type": "text"
      },
      "source": [
        "### MIN/MAX SCALING\n",
        "Os valores são alterados e redimensionados para que acabem variando de 0 a 1. Fazemos isso subtraindo o valor mínimo e dividindo pelo máximo menos o mínimo. O Scikit-Learn fornece um transformador chamado MinMaxScaler para isso. Ele possui um hiperparâmetro feature_range que permite alterar o intervalo, se você não quiser de 0 a 1 por algum motivo."
      ]
    },
    {
      "cell_type": "markdown",
      "metadata": {
        "id": "Pnb1jiHSro3p",
        "colab_type": "text"
      },
      "source": [
        "### STANDARDIZATION\n",
        "Diferentemente da escala min-max, a padronização não vincula valores a um intervalo específico, o que pode ser um problema para alguns algoritmos (por exemplo, redes neurais geralmente esperam um valor de entrada que varia de 0 a 1). No entanto, a padronização é muito menos afetada pelos valores discrepantes. Por exemplo, suponha que um distrito tenha uma renda mediana igual a 100 (por engano). A escala Min-max esmagaria todos os outros valores de 0 a 15 para 0 a 0,15, enquanto a padronização não seria muito afetada. O Scikit-Learn fornece um transformador chamado StandardScaler para padronização."
      ]
    },
    {
      "cell_type": "markdown",
      "metadata": {
        "id": "NfPNqjl1INQZ",
        "colab_type": "text"
      },
      "source": [
        "Neste exemplo, o transformador possui um hiperparâmetro, add_bedrooms_per_room, definido como True por padrão (geralmente é útil fornecer padrões sensíveis). Esse hiperparâmetro permitirá que você descubra facilmente se a adição desse atributo ajuda os algoritmos de Machine Learning ou não. De maneira mais geral, você pode adicionar um hiperparâmetro para bloquear qualquer etapa de preparação de dados que você não tem 100% de certeza. Quanto mais você automatizar essas etapas de preparação de dados, mais combinações você pode experimentar automaticamente, aumentando a probabilidade de encontrar uma ótima combinação (e economizando muito tempo)."
      ]
    },
    {
      "cell_type": "code",
      "metadata": {
        "id": "NiscEnGwNwbV",
        "colab_type": "code",
        "colab": {}
      },
      "source": [
        "# Maiores infos em https://scikit-learn.org/stable/modules/generated/sklearn.base.BaseEstimator.html?highlight=baseestimator#sklearn.base.BaseEstimator\n",
        "# Maiores infos em https://scikit-learn.org/stable/modules/generated/sklearn.base.TransformerMixin.html?highlight=transformermixin#sklearn.base.TransformerMixin\n",
        "\n",
        "from sklearn.base import BaseEstimator, TransformerMixin\n",
        "\n",
        "# Índices das colunas com list comprehension\n",
        "rooms_ix, bedrooms_ix, population_ix, household_ix = [list(housing.columns).index(col) for col in (\"total_rooms\", \"total_bedrooms\", \"population\", \"households\")]\n",
        "\n",
        "class CombinedAttributesAdder(BaseEstimator, TransformerMixin):\n",
        "    \n",
        "    def __init__(self, add_bedrooms_per_room = True): # no *args or **kwargs\n",
        "        self.add_bedrooms_per_room = add_bedrooms_per_room\n",
        "    \n",
        "    def fit(self, X, y=None):\n",
        "        return self  # nothing else to do\n",
        "    \n",
        "    def transform(self, X, y=None):\n",
        "        rooms_per_household = X[:, rooms_ix] / X[:, household_ix]\n",
        "        population_per_household = X[:, population_ix] / X[:, household_ix]\n",
        "        if self.add_bedrooms_per_room:\n",
        "            bedrooms_per_room = X[:, bedrooms_ix] / X[:, rooms_ix]\n",
        "            return np.c_[X, rooms_per_household, population_per_household,\n",
        "                         bedrooms_per_room]\n",
        "        else:\n",
        "            return np.c_[X, rooms_per_household, population_per_household]\n",
        "\n",
        "attr_adder = CombinedAttributesAdder(add_bedrooms_per_room=False)\n",
        "housing_extra_attribs = attr_adder.transform(housing.values)"
      ],
      "execution_count": 0,
      "outputs": []
    },
    {
      "cell_type": "code",
      "metadata": {
        "id": "5nfie5owbTVN",
        "colab_type": "code",
        "colab": {}
      },
      "source": [
        "from sklearn.preprocessing import FunctionTransformer\n",
        "\n",
        "def add_extra_features(X, add_bedrooms_per_room=True): #x é meu banco de dados. add_bedrooms_per_room=True: se tiver a variável insira os dados relacionados a bedrooms_per_room\n",
        "    rooms_per_household = X[:, rooms_ix] / X[:, household_ix]\n",
        "    population_per_household = X[:, population_ix] / X[:, household_ix]\n",
        "    if add_bedrooms_per_room:\n",
        "        bedrooms_per_room = X[:, bedrooms_ix] / X[:, rooms_ix]\n",
        "        return np.c_[X, rooms_per_household, population_per_household,\n",
        "                     bedrooms_per_room]\n",
        "    else:\n",
        "        return np.c_[X, rooms_per_household, population_per_household]\n",
        "\n",
        "attr_adder = FunctionTransformer(add_extra_features, validate=False,\n",
        "                                 kw_args={\"add_bedrooms_per_room\": False})\n",
        "housing_extra_attribs = attr_adder.fit_transform(housing.values)"
      ],
      "execution_count": 0,
      "outputs": []
    },
    {
      "cell_type": "code",
      "metadata": {
        "id": "5cigoHm3bBbj",
        "colab_type": "code",
        "colab": {}
      },
      "source": [
        "from sklearn.pipeline import Pipeline\n",
        "from sklearn.preprocessing import StandardScaler\n",
        "\n",
        "num_pipeline = Pipeline([\n",
        "        ('imputer', SimpleImputer(strategy=\"median\")),\n",
        "        ('attribs_adder', CombinedAttributesAdder(add_extra_features)),\n",
        "        ('std_scaler', StandardScaler()),\n",
        "    ])\n",
        "\n",
        "housing_num_tr = num_pipeline.fit_transform(housing_num)\n"
      ],
      "execution_count": 0,
      "outputs": []
    },
    {
      "cell_type": "code",
      "metadata": {
        "id": "ng_qxpie1IQR",
        "colab_type": "code",
        "outputId": "22ffc1a1-135d-4b18-d827-b1172bb8e488",
        "colab": {
          "base_uri": "https://localhost:8080/",
          "height": 238
        }
      },
      "source": [
        "from sklearn.compose import ColumnTransformer\n",
        "\n",
        "num_attribs = list(housing_num)\n",
        "cat_attribs = [\"ocean_proximity\"]\n",
        "\n",
        "full_pipeline = ColumnTransformer([\n",
        "        (\"num\", num_pipeline, num_attribs),\n",
        "        (\"cat\", OneHotEncoder(), cat_attribs),\n",
        "    ])\n",
        "\n",
        "housing_prepared = full_pipeline.fit_transform(housing)\n",
        "housing_prepared"
      ],
      "execution_count": 0,
      "outputs": [
        {
          "output_type": "execute_result",
          "data": {
            "text/plain": [
              "array([[-1.15604281,  0.77194962,  0.74333089, ...,  0.        ,\n",
              "         0.        ,  0.        ],\n",
              "       [-1.17602483,  0.6596948 , -1.1653172 , ...,  0.        ,\n",
              "         0.        ,  0.        ],\n",
              "       [ 1.18684903, -1.34218285,  0.18664186, ...,  0.        ,\n",
              "         0.        ,  1.        ],\n",
              "       ...,\n",
              "       [ 1.58648943, -0.72478134, -1.56295222, ...,  0.        ,\n",
              "         0.        ,  0.        ],\n",
              "       [ 0.78221312, -0.85106801,  0.18664186, ...,  0.        ,\n",
              "         0.        ,  0.        ],\n",
              "       [-1.43579109,  0.99645926,  1.85670895, ...,  0.        ,\n",
              "         1.        ,  0.        ]])"
            ]
          },
          "metadata": {
            "tags": []
          },
          "execution_count": 87
        }
      ]
    },
    {
      "cell_type": "code",
      "metadata": {
        "id": "GAlbtp-nLRI_",
        "colab_type": "code",
        "colab": {}
      },
      "source": [
        "from sklearn.base import BaseEstimator, TransformerMixin\n",
        "\n",
        "class DataFrameSelector(BaseEstimator, TransformerMixin):\n",
        " \n",
        " def __init__(self, attribute_names):\n",
        "   self.attribute_names = attribute_names\n",
        " \n",
        " def fit(self, X, y=None):\n",
        "   return self\n",
        " \n",
        " def transform(self, X):\n",
        "   return X[self.attribute_names].values"
      ],
      "execution_count": 0,
      "outputs": []
    },
    {
      "cell_type": "markdown",
      "metadata": {
        "id": "IlL5mOvRI-kW",
        "colab_type": "text"
      },
      "source": [
        "O Pipeline faz uma lista de pares nome/estimador, definindo uma sequência de etapas. Todos, exceto o último estimador, devem ser transformadores (ou seja, eles devem ter um método \"fit_transform()\"). Os nomes podem ser o que você quiser. Quando você chama o método fit() do pipeline, ele chama fit_transform() sequencialmente em todos os transformadores, passando a saída de cada chamada como parâmetro para a próxima chamada, até atingir o estimador final, para o qual chama apenas método fit()."
      ]
    },
    {
      "cell_type": "code",
      "metadata": {
        "id": "StqGI08oHtUp",
        "colab_type": "code",
        "colab": {}
      },
      "source": [
        "housing_num_tr"
      ],
      "execution_count": 0,
      "outputs": []
    },
    {
      "cell_type": "markdown",
      "metadata": {
        "id": "Tvd9Cp8cJs9b",
        "colab_type": "text"
      },
      "source": [
        "Agora você tem um pipeline para valores numéricos e também precisa aplicar o LabelBinarizer nos valores categóricos: como você pode unir essas transformações em um único pipeline? O Scikit-Learn fornece uma classe FeatureUnion para isso. Você fornece uma lista de transformadores(que podem ser Pipelines). O método transform() é chamado de cada transformador em paralelo, aguardando a sua saída e concatenando-os, retornando o resultado. "
      ]
    },
    {
      "cell_type": "code",
      "metadata": {
        "id": "Fr6U9merKb-K",
        "colab_type": "code",
        "colab": {}
      },
      "source": [
        " housing_prepared"
      ],
      "execution_count": 0,
      "outputs": []
    },
    {
      "cell_type": "markdown",
      "metadata": {
        "id": "mxk2RBkuqA1J",
        "colab_type": "text"
      },
      "source": [
        "### MODELO PREDITIVO(TREINO)"
      ]
    },
    {
      "cell_type": "code",
      "metadata": {
        "id": "y33UqJ2pqDka",
        "colab_type": "code",
        "outputId": "55f164d6-1281-4b67-8af8-0d5c26e3589b",
        "colab": {
          "base_uri": "https://localhost:8080/",
          "height": 34
        }
      },
      "source": [
        "from sklearn.linear_model import LinearRegression\n",
        "\n",
        "lin_reg = LinearRegression()\n",
        "lin_reg.fit(housing_prepared, housing_labels)"
      ],
      "execution_count": 0,
      "outputs": [
        {
          "output_type": "execute_result",
          "data": {
            "text/plain": [
              "LinearRegression(copy_X=True, fit_intercept=True, n_jobs=None, normalize=False)"
            ]
          },
          "metadata": {
            "tags": []
          },
          "execution_count": 89
        }
      ]
    },
    {
      "cell_type": "code",
      "metadata": {
        "id": "Qe1iNg041cLm",
        "colab_type": "code",
        "outputId": "536580a7-4bdc-43c7-d858-8a9bf042d95a",
        "colab": {
          "base_uri": "https://localhost:8080/",
          "height": 51
        }
      },
      "source": [
        "# let's try the full preprocessing pipeline on a few training instances\n",
        "#realizar predição do preço desses imóveis\n",
        "some_data = housing.iloc[:5] #pegar os 5 primeiros elementos (lembrando que python começa a contagem em zero e não conta o último elemento)\n",
        "some_labels = housing_labels.iloc[:5]\n",
        "some_data_prepared = full_pipeline.transform(some_data)\n",
        "\n",
        "print(\"Predictions:\", lin_reg.predict(some_data_prepared))"
      ],
      "execution_count": 0,
      "outputs": [
        {
          "output_type": "stream",
          "text": [
            "Predictions: [203682.37379543 326371.39370781 204218.64588245  58685.4770482\n",
            " 194213.06443039]\n"
          ],
          "name": "stdout"
        }
      ]
    },
    {
      "cell_type": "code",
      "metadata": {
        "id": "O2BgiP8y1gcl",
        "colab_type": "code",
        "outputId": "639446f5-b27f-420b-c638-77b717f6923e",
        "colab": {
          "base_uri": "https://localhost:8080/",
          "height": 34
        }
      },
      "source": [
        "#executar como lista\n",
        "print(\"Labels:\", list(some_labels))"
      ],
      "execution_count": 0,
      "outputs": [
        {
          "output_type": "stream",
          "text": [
            "Labels: [286600.0, 340600.0, 196900.0, 46300.0, 254500.0]\n"
          ],
          "name": "stdout"
        }
      ]
    },
    {
      "cell_type": "code",
      "metadata": {
        "id": "kNtvlNo41nG2",
        "colab_type": "code",
        "outputId": "cb2146c8-d26d-4f52-a30b-6a126eb3990b",
        "colab": {
          "base_uri": "https://localhost:8080/",
          "height": 34
        }
      },
      "source": [
        "#aplicar métricas de desenhemenho pra verificar como o algoritmo está se saindo, nesse caso ele está errando 68376 dólares\n",
        "from sklearn.metrics import mean_squared_error\n",
        "\n",
        "housing_predictions = lin_reg.predict(housing_prepared)\n",
        "lin_mse = mean_squared_error(housing_labels, housing_predictions)\n",
        "lin_rmse = np.sqrt(lin_mse)\n",
        "lin_rmse"
      ],
      "execution_count": 0,
      "outputs": [
        {
          "output_type": "execute_result",
          "data": {
            "text/plain": [
              "68376.64295459937"
            ]
          },
          "metadata": {
            "tags": []
          },
          "execution_count": 97
        }
      ]
    },
    {
      "cell_type": "markdown",
      "metadata": {
        "id": "jbCmY-Qt3BGz",
        "colab_type": "text"
      },
      "source": [
        "Nosso modelo esta errando em, aproximadamente, $68.376,64! Temos agora um exemplo claro de UNDERFITTING<br><br>![alt text](https://3gp10c1vpy442j63me73gy3s-wpengine.netdna-ssl.com/wp-content/uploads/2018/03/Screen-Shot-2018-03-22-at-11.22.15-AM-e1526498075543.png)\n",
        "<br><br>\n",
        "Quando isso acontece, pode significar que os recursos não fornecem informações suficientes para fazer boas previsões ou que o modelo não é poderoso o suficiente. O que fazer?\n",
        "*   Selecionar modelo mais poderoso, outro algoritmo...\n",
        "*   Reduzir restrições no modelo/adicionar novas features.\n",
        "\n"
      ]
    },
    {
      "cell_type": "code",
      "metadata": {
        "id": "n9A1IRE11t0F",
        "colab_type": "code",
        "outputId": "94b5b649-8a09-4aef-d3d6-d7941a5903f4",
        "colab": {
          "base_uri": "https://localhost:8080/",
          "height": 119
        }
      },
      "source": [
        "# Tentaremos com novo algoritmo, diferente da REGRESSÃO LINEAR da árvore de decisão\n",
        "\n",
        "from sklearn.tree import DecisionTreeRegressor\n",
        "\n",
        "tree_reg = DecisionTreeRegressor(random_state=42)\n",
        "tree_reg.fit(housing_prepared, housing_labels)"
      ],
      "execution_count": 0,
      "outputs": [
        {
          "output_type": "execute_result",
          "data": {
            "text/plain": [
              "DecisionTreeRegressor(ccp_alpha=0.0, criterion='mse', max_depth=None,\n",
              "                      max_features=None, max_leaf_nodes=None,\n",
              "                      min_impurity_decrease=0.0, min_impurity_split=None,\n",
              "                      min_samples_leaf=1, min_samples_split=2,\n",
              "                      min_weight_fraction_leaf=0.0, presort='deprecated',\n",
              "                      random_state=42, splitter='best')"
            ]
          },
          "metadata": {
            "tags": []
          },
          "execution_count": 98
        }
      ]
    },
    {
      "cell_type": "code",
      "metadata": {
        "id": "1H4qg4901wyH",
        "colab_type": "code",
        "outputId": "ae9a8d1b-65cf-4861-9304-d28a80a1a068",
        "colab": {
          "base_uri": "https://localhost:8080/",
          "height": 34
        }
      },
      "source": [
        "housing_predictions = tree_reg.predict(housing_prepared)\n",
        "tree_mse = mean_squared_error(housing_labels, housing_predictions)\n",
        "tree_rmse = np.sqrt(tree_mse)\n",
        "tree_rmse"
      ],
      "execution_count": 0,
      "outputs": [
        {
          "output_type": "execute_result",
          "data": {
            "text/plain": [
              "0.0"
            ]
          },
          "metadata": {
            "tags": []
          },
          "execution_count": 99
        }
      ]
    },
    {
      "cell_type": "markdown",
      "metadata": {
        "id": "Xdhp7cDt4ZJ3",
        "colab_type": "text"
      },
      "source": [
        "Uau! modelo perfeito?! Não! Agora temos o OVERFITTING!\n",
        "![alt text](https://3gp10c1vpy442j63me73gy3s-wpengine.netdna-ssl.com/wp-content/uploads/2018/03/Screen-Shot-2018-03-22-at-11.22.15-AM-e1526498075543.png)"
      ]
    },
    {
      "cell_type": "markdown",
      "metadata": {
        "id": "9lzQc-H-10Wy",
        "colab_type": "text"
      },
      "source": [
        "### CROSS-VALIDATION!\n",
        "![alt text](https://miro.medium.com/max/1368/0*P--gozwUfJ0TKtEp.png)"
      ]
    },
    {
      "cell_type": "code",
      "metadata": {
        "id": "wiUP6NY7145g",
        "colab_type": "code",
        "outputId": "3b22ace7-e126-4195-b7c6-c1576100c5cc",
        "colab": {
          "base_uri": "https://localhost:8080/",
          "height": 102
        }
      },
      "source": [
        "# UTILIZANDO DECISIONTREEREGRESSOR\n",
        "from sklearn.model_selection import cross_val_score\n",
        "\n",
        "scores = cross_val_score(tree_reg, housing_prepared, housing_labels,\n",
        "                         scoring=\"neg_mean_squared_error\", cv=10) #10 é o número de validações cruzadas realizadas\n",
        "\n",
        "tree_rmse_scores = np.sqrt(-scores) \n",
        "\n",
        "def display_scores(scores):\n",
        "    print(\"Scores:\", scores)\n",
        "    print(\"Mean:\", scores.mean())\n",
        "    print(\"Standard deviation:\", scores.std()) #desvio padrão\n",
        "\n",
        "display_scores(tree_rmse_scores)"
      ],
      "execution_count": 0,
      "outputs": [
        {
          "output_type": "stream",
          "text": [
            "Scores: [70274.7991723  67258.3624668  71350.42593227 68882.91340979\n",
            " 70987.99296566 74177.52037059 70788.57311306 70850.53018019\n",
            " 76430.62239321 70212.6471067 ]\n",
            "Mean: 71121.4387110585\n",
            "Standard deviation: 2434.3080046605132\n"
          ],
          "name": "stdout"
        }
      ]
    },
    {
      "cell_type": "code",
      "metadata": {
        "id": "eM7nJJzu2DlM",
        "colab_type": "code",
        "outputId": "fbbc6126-6fa6-4cfc-9b19-59923c63d20b",
        "colab": {
          "base_uri": "https://localhost:8080/",
          "height": 102
        }
      },
      "source": [
        "# UTILIZANDO LINEARREGRESSION\n",
        "lin_scores = cross_val_score(lin_reg, housing_prepared, housing_labels,\n",
        "                             scoring=\"neg_mean_squared_error\", cv=10)\n",
        "lin_rmse_scores = np.sqrt(-lin_scores)\n",
        "display_scores(lin_rmse_scores)"
      ],
      "execution_count": 0,
      "outputs": [
        {
          "output_type": "stream",
          "text": [
            "Scores: [66877.52325028 66608.120256   70575.91118868 74179.94799352\n",
            " 67683.32205678 71103.16843468 64782.65896552 67711.29940352\n",
            " 71080.40484136 67687.6384546 ]\n",
            "Mean: 68828.99948449328\n",
            "Standard deviation: 2662.7615706103393\n"
          ],
          "name": "stdout"
        }
      ]
    },
    {
      "cell_type": "code",
      "metadata": {
        "id": "2QuQiG4D4-zr",
        "colab_type": "code",
        "outputId": "98f491bd-7212-408f-845e-abf6e4a11dd7",
        "colab": {
          "base_uri": "https://localhost:8080/",
          "height": 34
        }
      },
      "source": [
        "# TENTAREMOS COM OUTRO ALGORITMO: RANDOMFORESTREGRESSOR \n",
        "#trabalha com florestas aleatórias\n",
        "from sklearn.ensemble import RandomForestRegressor\n",
        "forest_reg = RandomForestRegressor()\n",
        "forest_reg.fit(housing_prepared, housing_labels)\n",
        "housing_predictions = forest_reg.predict(housing_prepared)\n",
        "forest_mse = mean_squared_error(housing_labels, housing_predictions)\n",
        "forest_rmse = np.sqrt(forest_mse)\n",
        "forest_rmse"
      ],
      "execution_count": 0,
      "outputs": [
        {
          "output_type": "execute_result",
          "data": {
            "text/plain": [
              "18723.347785608985"
            ]
          },
          "metadata": {
            "tags": []
          },
          "execution_count": 103
        }
      ]
    },
    {
      "cell_type": "code",
      "metadata": {
        "id": "wZChxfvB5Jpb",
        "colab_type": "code",
        "outputId": "6757f594-4889-496b-9e6a-285ffad26ba4",
        "colab": {
          "base_uri": "https://localhost:8080/",
          "height": 102
        }
      },
      "source": [
        "from sklearn.model_selection import cross_val_score\n",
        "\n",
        "forest_scores = cross_val_score(forest_reg, housing_prepared, housing_labels,\n",
        "                                scoring=\"neg_mean_squared_error\", cv=10)\n",
        "forest_rmse_scores = np.sqrt(-forest_scores)\n",
        "display_scores(forest_rmse_scores)"
      ],
      "execution_count": 0,
      "outputs": [
        {
          "output_type": "stream",
          "text": [
            "Scores: [49835.76126017 47574.39966545 49900.57286866 52114.13772792\n",
            " 49772.42501475 53563.11777211 49149.86979471 47873.96543253\n",
            " 53166.37529069 50195.77838601]\n",
            "Mean: 50314.64032129913\n",
            "Standard deviation: 1935.3189595920178\n"
          ],
          "name": "stdout"
        }
      ]
    },
    {
      "cell_type": "markdown",
      "metadata": {
        "id": "CDCsZseh5_48",
        "colab_type": "text"
      },
      "source": [
        "### FINE-TUNE MODEL ou AJUSTES DE PARÂMETROS\n",
        "\n",
        "---\n",
        "\n",
        "Uma maneira de fazer isso seria mexer nos hiperparâmetros manualmente, até encontrar uma ótima combinação de valores de hiperparâmetros. Isso seria um trabalho muito tedioso e talvez você não tenha tempo para explorar muitas combinações. Em vez disso, você deve fazer com que o GridSearchCV do Scikit-Learn o procure. Tudo o que você precisa fazer é dizer com quais hiperparâmetros você deseja experimentar e quais valores testar e avaliará todas as combinações possíveis de hiperparâmetro, usando validação cruzada. Por exemplo, o código a seguir procura a melhor combinação de valores de hiperparâmetro para o RandomForestRegressor:\n"
      ]
    },
    {
      "cell_type": "code",
      "metadata": {
        "id": "4X5n9t8b5_Yw",
        "colab_type": "code",
        "outputId": "0bdd2114-fcf5-4a6d-b4a1-1f7f998e3d08",
        "colab": {
          "base_uri": "https://localhost:8080/",
          "height": 374
        }
      },
      "source": [
        "from sklearn.model_selection import GridSearchCV\n",
        "param_grid = [\n",
        " {'n_estimators': [3, 10, 30], 'max_features': [2, 4, 6, 8]},\n",
        " {'bootstrap': [False], 'n_estimators': [3, 10], 'max_features': [2, 3, 4]},\n",
        " ]\n",
        "forest_reg = RandomForestRegressor()\n",
        "grid_search = GridSearchCV(forest_reg, param_grid, cv=5,\n",
        " scoring='neg_mean_squared_error')\n",
        "grid_search.fit(housing_prepared, housing_labels)\n"
      ],
      "execution_count": 0,
      "outputs": [
        {
          "output_type": "execute_result",
          "data": {
            "text/plain": [
              "GridSearchCV(cv=5, error_score=nan,\n",
              "             estimator=RandomForestRegressor(bootstrap=True, ccp_alpha=0.0,\n",
              "                                             criterion='mse', max_depth=None,\n",
              "                                             max_features='auto',\n",
              "                                             max_leaf_nodes=None,\n",
              "                                             max_samples=None,\n",
              "                                             min_impurity_decrease=0.0,\n",
              "                                             min_impurity_split=None,\n",
              "                                             min_samples_leaf=1,\n",
              "                                             min_samples_split=2,\n",
              "                                             min_weight_fraction_leaf=0.0,\n",
              "                                             n_estimators=100, n_jobs=None,\n",
              "                                             oob_score=False, random_state=None,\n",
              "                                             verbose=0, warm_start=False),\n",
              "             iid='deprecated', n_jobs=None,\n",
              "             param_grid=[{'max_features': [2, 4, 6, 8],\n",
              "                          'n_estimators': [3, 10, 30]},\n",
              "                         {'bootstrap': [False], 'max_features': [2, 3, 4],\n",
              "                          'n_estimators': [3, 10]}],\n",
              "             pre_dispatch='2*n_jobs', refit=True, return_train_score=False,\n",
              "             scoring='neg_mean_squared_error', verbose=0)"
            ]
          },
          "metadata": {
            "tags": []
          },
          "execution_count": 105
        }
      ]
    },
    {
      "cell_type": "code",
      "metadata": {
        "id": "pHxpqvjA6nx4",
        "colab_type": "code",
        "outputId": "edfdde79-a1d8-4249-b617-b6cef9950cf2",
        "colab": {
          "base_uri": "https://localhost:8080/",
          "height": 34
        }
      },
      "source": [
        "grid_search.best_params_"
      ],
      "execution_count": 0,
      "outputs": [
        {
          "output_type": "execute_result",
          "data": {
            "text/plain": [
              "{'max_features': 8, 'n_estimators': 30}"
            ]
          },
          "metadata": {
            "tags": []
          },
          "execution_count": 106
        }
      ]
    },
    {
      "cell_type": "code",
      "metadata": {
        "id": "UvoV0GVq6qCM",
        "colab_type": "code",
        "outputId": "28bf324e-06b1-4f10-f6c4-a8168c39441f",
        "colab": {
          "base_uri": "https://localhost:8080/",
          "height": 136
        }
      },
      "source": [
        "grid_search.best_estimator_"
      ],
      "execution_count": 0,
      "outputs": [
        {
          "output_type": "execute_result",
          "data": {
            "text/plain": [
              "RandomForestRegressor(bootstrap=True, ccp_alpha=0.0, criterion='mse',\n",
              "                      max_depth=None, max_features=8, max_leaf_nodes=None,\n",
              "                      max_samples=None, min_impurity_decrease=0.0,\n",
              "                      min_impurity_split=None, min_samples_leaf=1,\n",
              "                      min_samples_split=2, min_weight_fraction_leaf=0.0,\n",
              "                      n_estimators=30, n_jobs=None, oob_score=False,\n",
              "                      random_state=None, verbose=0, warm_start=False)"
            ]
          },
          "metadata": {
            "tags": []
          },
          "execution_count": 107
        }
      ]
    },
    {
      "cell_type": "code",
      "metadata": {
        "id": "5Etk0AXV6z5r",
        "colab_type": "code",
        "outputId": "9e68fdc1-053e-4c74-dc20-a1900974d7de",
        "colab": {
          "base_uri": "https://localhost:8080/",
          "height": 323
        }
      },
      "source": [
        "cvres = grid_search.cv_results_\n",
        "for mean_score, params in zip(cvres[\"mean_test_score\"], cvres[\"params\"]):\n",
        "  print(np.sqrt(-mean_score), params)"
      ],
      "execution_count": 0,
      "outputs": [
        {
          "output_type": "stream",
          "text": [
            "63155.598897597316 {'max_features': 2, 'n_estimators': 3}\n",
            "55988.842688171804 {'max_features': 2, 'n_estimators': 10}\n",
            "53258.83833738639 {'max_features': 2, 'n_estimators': 30}\n",
            "60252.61420898323 {'max_features': 4, 'n_estimators': 3}\n",
            "53430.20505097993 {'max_features': 4, 'n_estimators': 10}\n",
            "51496.07660890066 {'max_features': 4, 'n_estimators': 30}\n",
            "59945.37745733971 {'max_features': 6, 'n_estimators': 3}\n",
            "52839.49527795399 {'max_features': 6, 'n_estimators': 10}\n",
            "51058.51029292074 {'max_features': 6, 'n_estimators': 30}\n",
            "60058.51071371934 {'max_features': 8, 'n_estimators': 3}\n",
            "52656.05823042114 {'max_features': 8, 'n_estimators': 10}\n",
            "50841.6078547728 {'max_features': 8, 'n_estimators': 30}\n",
            "63178.096485919414 {'bootstrap': False, 'max_features': 2, 'n_estimators': 3}\n",
            "54919.68421285865 {'bootstrap': False, 'max_features': 2, 'n_estimators': 10}\n",
            "61427.1408376664 {'bootstrap': False, 'max_features': 3, 'n_estimators': 3}\n",
            "53070.92363686661 {'bootstrap': False, 'max_features': 3, 'n_estimators': 10}\n",
            "59141.23365203814 {'bootstrap': False, 'max_features': 4, 'n_estimators': 3}\n",
            "52617.639794013856 {'bootstrap': False, 'max_features': 4, 'n_estimators': 10}\n"
          ],
          "name": "stdout"
        }
      ]
    },
    {
      "cell_type": "markdown",
      "metadata": {
        "id": "A4VGuTFn7ebK",
        "colab_type": "text"
      },
      "source": [
        "### EVALUATE MODEL ou AVALIAÇÃO DOS MODELOS\n",
        "\n",
        "---\n",
        "\n",
        "Depois de ajustar seus modelos por um tempo, você finalmente terá um sistema com desempenho suficiente. Agora é a hora de avaliar o modelo final no conjunto de testes. Não há nada de especial nesse processo; basta obter os preditores e os rótulos do seu conjunto de testes, execute seu full_pipeline para transformar os dados (chamada transform(), não fit_transform ()) e avalie o modelo final no conjunto de testes"
      ]
    },
    {
      "cell_type": "code",
      "metadata": {
        "id": "NxtJRLPV7iom",
        "colab_type": "code",
        "colab": {}
      },
      "source": [
        "final_model = grid_search.best_estimator_\n",
        "X_test = strat_test_set.drop(\"median_house_value\", axis=1)\n",
        "y_test = strat_test_set[\"median_house_value\"].copy()\n",
        "X_test_prepared = full_pipeline.transform(X_test)\n",
        "final_predictions = final_model.predict(X_test_prepared)\n",
        "final_mse = mean_squared_error(y_test, final_predictions)\n",
        "final_rmse = np.sqrt(final_mse)"
      ],
      "execution_count": 0,
      "outputs": []
    },
    {
      "cell_type": "code",
      "metadata": {
        "id": "-Mi9NSVM7ul_",
        "colab_type": "code",
        "outputId": "9560ef01-4d57-40df-cdf9-d076672b31ac",
        "colab": {
          "base_uri": "https://localhost:8080/",
          "height": 34
        }
      },
      "source": [
        "final_rmse"
      ],
      "execution_count": 0,
      "outputs": [
        {
          "output_type": "execute_result",
          "data": {
            "text/plain": [
              "48645.464119372795"
            ]
          },
          "metadata": {
            "tags": []
          },
          "execution_count": 110
        }
      ]
    },
    {
      "cell_type": "markdown",
      "metadata": {
        "id": "TzwqV33e8AKd",
        "colab_type": "text"
      },
      "source": [
        "O desempenho geralmente será um pouco pior do que você mediu usando a validação cruzada se você fez muitos ajustes de hiperparâmetro (porque seu sistema acaba sendo ajustado para ter um bom desempenho nos dados de validação e provavelmente não terá um bom desempenho em conjuntos de dados desconhecidos). Agora vem a fase de pré-lançamento do projeto: você precisa apresentar sua solução (destacar o que aprendeu, o que funcionou e o que não funcionou, que suposições foram feitas e quais são as limitações do seu sistema), documentar tudo e criar boas apresentações com visualizações claras e declarações fáceis de lembrar (por exemplo, “median_income\" é o preditor número um dos preços da habitação”)."
      ]
    },
    {
      "cell_type": "markdown",
      "metadata": {
        "id": "nqvDHR1f8rDk",
        "colab_type": "text"
      },
      "source": [
        "## Referências bibliográficas<br>\n",
        "https://github.com/ageron/handson-ml/blob/master/02_end_to_end_machine_learning_project.ipynb<br><br>\n",
        "![alt text](https://m.media-amazon.com/images/S/aplus-media/vc/399b38c4-ae00-4ca3-b01f-4d482ab4cdeb.__CR133,0,1064,1418_PT0_SX300_V1___.png)"
      ]
    },
    {
      "cell_type": "markdown",
      "metadata": {
        "id": "9DEJf4KV6ZEm",
        "colab_type": "text"
      },
      "source": [
        "# DATASET PRÉ-PRONTO\n",
        "\n",
        "---\n",
        "![alt text](data:image/jpeg;base64,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)\n"
      ]
    },
    {
      "cell_type": "code",
      "metadata": {
        "id": "fEeR8-i6x-9Y",
        "colab_type": "code",
        "colab": {}
      },
      "source": [
        "#CARREGANDO LIBRARIES\n",
        "from sklearn import datasets\n",
        "iris = datasets.load_iris()"
      ],
      "execution_count": 0,
      "outputs": []
    },
    {
      "cell_type": "code",
      "metadata": {
        "id": "_LyeMFRi6ftP",
        "colab_type": "code",
        "outputId": "7240ca01-a691-4c34-efe4-06114280ea80",
        "colab": {
          "base_uri": "https://localhost:8080/",
          "height": 1000
        }
      },
      "source": [
        "iris.data"
      ],
      "execution_count": 0,
      "outputs": [
        {
          "output_type": "execute_result",
          "data": {
            "text/plain": [
              "array([[5.1, 3.5, 1.4, 0.2],\n",
              "       [4.9, 3. , 1.4, 0.2],\n",
              "       [4.7, 3.2, 1.3, 0.2],\n",
              "       [4.6, 3.1, 1.5, 0.2],\n",
              "       [5. , 3.6, 1.4, 0.2],\n",
              "       [5.4, 3.9, 1.7, 0.4],\n",
              "       [4.6, 3.4, 1.4, 0.3],\n",
              "       [5. , 3.4, 1.5, 0.2],\n",
              "       [4.4, 2.9, 1.4, 0.2],\n",
              "       [4.9, 3.1, 1.5, 0.1],\n",
              "       [5.4, 3.7, 1.5, 0.2],\n",
              "       [4.8, 3.4, 1.6, 0.2],\n",
              "       [4.8, 3. , 1.4, 0.1],\n",
              "       [4.3, 3. , 1.1, 0.1],\n",
              "       [5.8, 4. , 1.2, 0.2],\n",
              "       [5.7, 4.4, 1.5, 0.4],\n",
              "       [5.4, 3.9, 1.3, 0.4],\n",
              "       [5.1, 3.5, 1.4, 0.3],\n",
              "       [5.7, 3.8, 1.7, 0.3],\n",
              "       [5.1, 3.8, 1.5, 0.3],\n",
              "       [5.4, 3.4, 1.7, 0.2],\n",
              "       [5.1, 3.7, 1.5, 0.4],\n",
              "       [4.6, 3.6, 1. , 0.2],\n",
              "       [5.1, 3.3, 1.7, 0.5],\n",
              "       [4.8, 3.4, 1.9, 0.2],\n",
              "       [5. , 3. , 1.6, 0.2],\n",
              "       [5. , 3.4, 1.6, 0.4],\n",
              "       [5.2, 3.5, 1.5, 0.2],\n",
              "       [5.2, 3.4, 1.4, 0.2],\n",
              "       [4.7, 3.2, 1.6, 0.2],\n",
              "       [4.8, 3.1, 1.6, 0.2],\n",
              "       [5.4, 3.4, 1.5, 0.4],\n",
              "       [5.2, 4.1, 1.5, 0.1],\n",
              "       [5.5, 4.2, 1.4, 0.2],\n",
              "       [4.9, 3.1, 1.5, 0.2],\n",
              "       [5. , 3.2, 1.2, 0.2],\n",
              "       [5.5, 3.5, 1.3, 0.2],\n",
              "       [4.9, 3.6, 1.4, 0.1],\n",
              "       [4.4, 3. , 1.3, 0.2],\n",
              "       [5.1, 3.4, 1.5, 0.2],\n",
              "       [5. , 3.5, 1.3, 0.3],\n",
              "       [4.5, 2.3, 1.3, 0.3],\n",
              "       [4.4, 3.2, 1.3, 0.2],\n",
              "       [5. , 3.5, 1.6, 0.6],\n",
              "       [5.1, 3.8, 1.9, 0.4],\n",
              "       [4.8, 3. , 1.4, 0.3],\n",
              "       [5.1, 3.8, 1.6, 0.2],\n",
              "       [4.6, 3.2, 1.4, 0.2],\n",
              "       [5.3, 3.7, 1.5, 0.2],\n",
              "       [5. , 3.3, 1.4, 0.2],\n",
              "       [7. , 3.2, 4.7, 1.4],\n",
              "       [6.4, 3.2, 4.5, 1.5],\n",
              "       [6.9, 3.1, 4.9, 1.5],\n",
              "       [5.5, 2.3, 4. , 1.3],\n",
              "       [6.5, 2.8, 4.6, 1.5],\n",
              "       [5.7, 2.8, 4.5, 1.3],\n",
              "       [6.3, 3.3, 4.7, 1.6],\n",
              "       [4.9, 2.4, 3.3, 1. ],\n",
              "       [6.6, 2.9, 4.6, 1.3],\n",
              "       [5.2, 2.7, 3.9, 1.4],\n",
              "       [5. , 2. , 3.5, 1. ],\n",
              "       [5.9, 3. , 4.2, 1.5],\n",
              "       [6. , 2.2, 4. , 1. ],\n",
              "       [6.1, 2.9, 4.7, 1.4],\n",
              "       [5.6, 2.9, 3.6, 1.3],\n",
              "       [6.7, 3.1, 4.4, 1.4],\n",
              "       [5.6, 3. , 4.5, 1.5],\n",
              "       [5.8, 2.7, 4.1, 1. ],\n",
              "       [6.2, 2.2, 4.5, 1.5],\n",
              "       [5.6, 2.5, 3.9, 1.1],\n",
              "       [5.9, 3.2, 4.8, 1.8],\n",
              "       [6.1, 2.8, 4. , 1.3],\n",
              "       [6.3, 2.5, 4.9, 1.5],\n",
              "       [6.1, 2.8, 4.7, 1.2],\n",
              "       [6.4, 2.9, 4.3, 1.3],\n",
              "       [6.6, 3. , 4.4, 1.4],\n",
              "       [6.8, 2.8, 4.8, 1.4],\n",
              "       [6.7, 3. , 5. , 1.7],\n",
              "       [6. , 2.9, 4.5, 1.5],\n",
              "       [5.7, 2.6, 3.5, 1. ],\n",
              "       [5.5, 2.4, 3.8, 1.1],\n",
              "       [5.5, 2.4, 3.7, 1. ],\n",
              "       [5.8, 2.7, 3.9, 1.2],\n",
              "       [6. , 2.7, 5.1, 1.6],\n",
              "       [5.4, 3. , 4.5, 1.5],\n",
              "       [6. , 3.4, 4.5, 1.6],\n",
              "       [6.7, 3.1, 4.7, 1.5],\n",
              "       [6.3, 2.3, 4.4, 1.3],\n",
              "       [5.6, 3. , 4.1, 1.3],\n",
              "       [5.5, 2.5, 4. , 1.3],\n",
              "       [5.5, 2.6, 4.4, 1.2],\n",
              "       [6.1, 3. , 4.6, 1.4],\n",
              "       [5.8, 2.6, 4. , 1.2],\n",
              "       [5. , 2.3, 3.3, 1. ],\n",
              "       [5.6, 2.7, 4.2, 1.3],\n",
              "       [5.7, 3. , 4.2, 1.2],\n",
              "       [5.7, 2.9, 4.2, 1.3],\n",
              "       [6.2, 2.9, 4.3, 1.3],\n",
              "       [5.1, 2.5, 3. , 1.1],\n",
              "       [5.7, 2.8, 4.1, 1.3],\n",
              "       [6.3, 3.3, 6. , 2.5],\n",
              "       [5.8, 2.7, 5.1, 1.9],\n",
              "       [7.1, 3. , 5.9, 2.1],\n",
              "       [6.3, 2.9, 5.6, 1.8],\n",
              "       [6.5, 3. , 5.8, 2.2],\n",
              "       [7.6, 3. , 6.6, 2.1],\n",
              "       [4.9, 2.5, 4.5, 1.7],\n",
              "       [7.3, 2.9, 6.3, 1.8],\n",
              "       [6.7, 2.5, 5.8, 1.8],\n",
              "       [7.2, 3.6, 6.1, 2.5],\n",
              "       [6.5, 3.2, 5.1, 2. ],\n",
              "       [6.4, 2.7, 5.3, 1.9],\n",
              "       [6.8, 3. , 5.5, 2.1],\n",
              "       [5.7, 2.5, 5. , 2. ],\n",
              "       [5.8, 2.8, 5.1, 2.4],\n",
              "       [6.4, 3.2, 5.3, 2.3],\n",
              "       [6.5, 3. , 5.5, 1.8],\n",
              "       [7.7, 3.8, 6.7, 2.2],\n",
              "       [7.7, 2.6, 6.9, 2.3],\n",
              "       [6. , 2.2, 5. , 1.5],\n",
              "       [6.9, 3.2, 5.7, 2.3],\n",
              "       [5.6, 2.8, 4.9, 2. ],\n",
              "       [7.7, 2.8, 6.7, 2. ],\n",
              "       [6.3, 2.7, 4.9, 1.8],\n",
              "       [6.7, 3.3, 5.7, 2.1],\n",
              "       [7.2, 3.2, 6. , 1.8],\n",
              "       [6.2, 2.8, 4.8, 1.8],\n",
              "       [6.1, 3. , 4.9, 1.8],\n",
              "       [6.4, 2.8, 5.6, 2.1],\n",
              "       [7.2, 3. , 5.8, 1.6],\n",
              "       [7.4, 2.8, 6.1, 1.9],\n",
              "       [7.9, 3.8, 6.4, 2. ],\n",
              "       [6.4, 2.8, 5.6, 2.2],\n",
              "       [6.3, 2.8, 5.1, 1.5],\n",
              "       [6.1, 2.6, 5.6, 1.4],\n",
              "       [7.7, 3. , 6.1, 2.3],\n",
              "       [6.3, 3.4, 5.6, 2.4],\n",
              "       [6.4, 3.1, 5.5, 1.8],\n",
              "       [6. , 3. , 4.8, 1.8],\n",
              "       [6.9, 3.1, 5.4, 2.1],\n",
              "       [6.7, 3.1, 5.6, 2.4],\n",
              "       [6.9, 3.1, 5.1, 2.3],\n",
              "       [5.8, 2.7, 5.1, 1.9],\n",
              "       [6.8, 3.2, 5.9, 2.3],\n",
              "       [6.7, 3.3, 5.7, 2.5],\n",
              "       [6.7, 3. , 5.2, 2.3],\n",
              "       [6.3, 2.5, 5. , 1.9],\n",
              "       [6.5, 3. , 5.2, 2. ],\n",
              "       [6.2, 3.4, 5.4, 2.3],\n",
              "       [5.9, 3. , 5.1, 1.8]])"
            ]
          },
          "metadata": {
            "tags": []
          },
          "execution_count": 113
        }
      ]
    },
    {
      "cell_type": "code",
      "metadata": {
        "id": "TrireER46hPX",
        "colab_type": "code",
        "outputId": "f26bc702-6c28-46bf-f37e-808b197ad51d",
        "colab": {
          "base_uri": "https://localhost:8080/",
          "height": 136
        }
      },
      "source": [
        "iris.target"
      ],
      "execution_count": 0,
      "outputs": [
        {
          "output_type": "execute_result",
          "data": {
            "text/plain": [
              "array([0, 0, 0, 0, 0, 0, 0, 0, 0, 0, 0, 0, 0, 0, 0, 0, 0, 0, 0, 0, 0, 0,\n",
              "       0, 0, 0, 0, 0, 0, 0, 0, 0, 0, 0, 0, 0, 0, 0, 0, 0, 0, 0, 0, 0, 0,\n",
              "       0, 0, 0, 0, 0, 0, 1, 1, 1, 1, 1, 1, 1, 1, 1, 1, 1, 1, 1, 1, 1, 1,\n",
              "       1, 1, 1, 1, 1, 1, 1, 1, 1, 1, 1, 1, 1, 1, 1, 1, 1, 1, 1, 1, 1, 1,\n",
              "       1, 1, 1, 1, 1, 1, 1, 1, 1, 1, 1, 1, 2, 2, 2, 2, 2, 2, 2, 2, 2, 2,\n",
              "       2, 2, 2, 2, 2, 2, 2, 2, 2, 2, 2, 2, 2, 2, 2, 2, 2, 2, 2, 2, 2, 2,\n",
              "       2, 2, 2, 2, 2, 2, 2, 2, 2, 2, 2, 2, 2, 2, 2, 2, 2, 2])"
            ]
          },
          "metadata": {
            "tags": []
          },
          "execution_count": 114
        }
      ]
    },
    {
      "cell_type": "code",
      "metadata": {
        "id": "yLBPPtWr6kqd",
        "colab_type": "code",
        "outputId": "82664da6-ef1c-4933-9409-f9bc8e2a753b",
        "colab": {
          "base_uri": "https://localhost:8080/",
          "height": 119
        }
      },
      "source": [
        "from sklearn.tree import DecisionTreeClassifier\n",
        "clf = DecisionTreeClassifier()\n",
        "clf.fit(iris.data,iris.target)"
      ],
      "execution_count": 0,
      "outputs": [
        {
          "output_type": "execute_result",
          "data": {
            "text/plain": [
              "DecisionTreeClassifier(ccp_alpha=0.0, class_weight=None, criterion='gini',\n",
              "                       max_depth=None, max_features=None, max_leaf_nodes=None,\n",
              "                       min_impurity_decrease=0.0, min_impurity_split=None,\n",
              "                       min_samples_leaf=1, min_samples_split=2,\n",
              "                       min_weight_fraction_leaf=0.0, presort='deprecated',\n",
              "                       random_state=None, splitter='best')"
            ]
          },
          "metadata": {
            "tags": []
          },
          "execution_count": 115
        }
      ]
    },
    {
      "cell_type": "code",
      "metadata": {
        "id": "ARWkZupq6mM2",
        "colab_type": "code",
        "outputId": "b80179b7-78a6-43fd-bc3f-dd31bcc46aeb",
        "colab": {
          "base_uri": "https://localhost:8080/",
          "height": 34
        }
      },
      "source": [
        "clf.feature_importances_"
      ],
      "execution_count": 0,
      "outputs": [
        {
          "output_type": "execute_result",
          "data": {
            "text/plain": [
              "array([0.        , 0.01333333, 0.56405596, 0.42261071])"
            ]
          },
          "metadata": {
            "tags": []
          },
          "execution_count": 116
        }
      ]
    },
    {
      "cell_type": "code",
      "metadata": {
        "id": "5GaZAev-6pQQ",
        "colab_type": "code",
        "outputId": "46baa70c-f0c4-40a9-d546-71ced6ab4965",
        "colab": {
          "base_uri": "https://localhost:8080/",
          "height": 85
        }
      },
      "source": [
        "iris.feature_names"
      ],
      "execution_count": 0,
      "outputs": [
        {
          "output_type": "execute_result",
          "data": {
            "text/plain": [
              "['sepal length (cm)',\n",
              " 'sepal width (cm)',\n",
              " 'petal length (cm)',\n",
              " 'petal width (cm)']"
            ]
          },
          "metadata": {
            "tags": []
          },
          "execution_count": 117
        }
      ]
    },
    {
      "cell_type": "code",
      "metadata": {
        "id": "lU1VpVbq6rUW",
        "colab_type": "code",
        "outputId": "0c9200ba-4d80-4bb0-8029-103bf1a9e22e",
        "colab": {
          "base_uri": "https://localhost:8080/",
          "height": 34
        }
      },
      "source": [
        "#underfited: generaliza tudo\n",
        "#good fit: equilibrio entre generalização e decorar = o ideal\n",
        "#overfitted: decora dados\n",
        "iris.data[0]\n",
        "clf.predict([iris.data[0]])"
      ],
      "execution_count": 0,
      "outputs": [
        {
          "output_type": "execute_result",
          "data": {
            "text/plain": [
              "array([0])"
            ]
          },
          "metadata": {
            "tags": []
          },
          "execution_count": 118
        }
      ]
    },
    {
      "cell_type": "code",
      "metadata": {
        "id": "gaRzQ56N6s2a",
        "colab_type": "code",
        "outputId": "3aea65ed-ba7b-4152-90fa-1c864f858a5c",
        "colab": {
          "base_uri": "https://localhost:8080/",
          "height": 34
        }
      },
      "source": [
        "#metricas de avaliação\n",
        "from sklearn import metrics\n",
        "pred = clf.predict(iris.data)\n",
        "metrics.accuracy_score(iris.target, pred)\n",
        "#acurácia de 1.0 ou seja, 100%\n",
        "#então tem algo errado"
      ],
      "execution_count": 0,
      "outputs": [
        {
          "output_type": "execute_result",
          "data": {
            "text/plain": [
              "1.0"
            ]
          },
          "metadata": {
            "tags": []
          },
          "execution_count": 120
        }
      ]
    },
    {
      "cell_type": "code",
      "metadata": {
        "id": "If5asqrT6u0I",
        "colab_type": "code",
        "outputId": "7ced96ba-54af-4d94-9a2a-4a27bda8c3fa",
        "colab": {
          "base_uri": "https://localhost:8080/",
          "height": 34
        }
      },
      "source": [
        "# 1.0 = 100% (nada é 100%: esta errado!) é preciso uma parte do dataset para aprender e a outra parte para testar! imagine voce fazer uma prova com os mesmos exericios estudados: voce vai apenas testar sua memoria, nao a inteligencia\n",
        "clf.fit(iris.data[:120], iris.target[:120])\n",
        "pred = clf.predict(iris.data[120:])\n",
        "metrics.accuracy_score(iris.target[120:], pred)"
      ],
      "execution_count": 0,
      "outputs": [
        {
          "output_type": "execute_result",
          "data": {
            "text/plain": [
              "0.7333333333333333"
            ]
          },
          "metadata": {
            "tags": []
          },
          "execution_count": 121
        }
      ]
    },
    {
      "cell_type": "code",
      "metadata": {
        "id": "3Bhdp2zt6w1O",
        "colab_type": "code",
        "outputId": "3d41896c-63f5-459a-9963-78f7d469126f",
        "colab": {
          "base_uri": "https://localhost:8080/",
          "height": 85
        }
      },
      "source": [
        "# o problema aqui? pegamos apenas os primeiros modelos, a maquina nao entendera ou aprendera como treinar os ultimos, afinal o dataset esta ordenado! 80% esta ok, mas se aparecer um target 2(versicolour) ele nao acertara pois nao aprendeu o que é versicolour!\n",
        "#a maquina aprendeu o que é virginia e setosa, nao versicolour = BALANCEIE OS DADOS!\n",
        "iris.target[120:],pred"
      ],
      "execution_count": 0,
      "outputs": [
        {
          "output_type": "execute_result",
          "data": {
            "text/plain": [
              "(array([2, 2, 2, 2, 2, 2, 2, 2, 2, 2, 2, 2, 2, 2, 2, 2, 2, 2, 2, 2, 2, 2,\n",
              "        2, 2, 2, 2, 2, 2, 2, 2]),\n",
              " array([2, 1, 2, 1, 2, 2, 1, 1, 2, 1, 2, 2, 2, 1, 1, 2, 2, 2, 1, 2, 2, 2,\n",
              "        2, 2, 2, 2, 2, 2, 2, 2]))"
            ]
          },
          "metadata": {
            "tags": []
          },
          "execution_count": 122
        }
      ]
    },
    {
      "cell_type": "code",
      "metadata": {
        "id": "fyyIDS8J6yXe",
        "colab_type": "code",
        "colab": {}
      },
      "source": [
        "#validação cruzada é avaliar os dados com ele mesmo = média da validation cross\n",
        "from sklearn.model_selection import cross_val_score\n",
        "score = cross_val_score(clf,iris.data, iris.target, cv=10)\n",
        "#cv é o numero de vezes da validação cruzada! ou seja, ensinou para 90% e treinou em 10%(cv)ele rodou 10x a forma randomica! por default rodaria 3! quanto maior o cv"
      ],
      "execution_count": 0,
      "outputs": []
    },
    {
      "cell_type": "code",
      "metadata": {
        "id": "Yfq8z2Pv60IS",
        "colab_type": "code",
        "outputId": "1b5bbcd9-edc6-4478-e3d7-052ef1b8a368",
        "colab": {
          "base_uri": "https://localhost:8080/",
          "height": 34
        }
      },
      "source": [
        "import numpy as np\n",
        "np.mean(score)"
      ],
      "execution_count": 0,
      "outputs": [
        {
          "output_type": "execute_result",
          "data": {
            "text/plain": [
              "0.9533333333333334"
            ]
          },
          "metadata": {
            "tags": []
          },
          "execution_count": 124
        }
      ]
    },
    {
      "cell_type": "code",
      "metadata": {
        "id": "QV7chLg261ne",
        "colab_type": "code",
        "outputId": "8f91a615-c4cb-4874-b042-9967aa1e288b",
        "colab": {
          "base_uri": "https://localhost:8080/",
          "height": 224
        }
      },
      "source": [
        "print(metrics.classification_report(iris.target[120:],pred))"
      ],
      "execution_count": 0,
      "outputs": [
        {
          "output_type": "stream",
          "text": [
            "              precision    recall  f1-score   support\n",
            "\n",
            "           1       0.00      0.00      0.00         0\n",
            "           2       1.00      0.73      0.85        30\n",
            "\n",
            "    accuracy                           0.73        30\n",
            "   macro avg       0.50      0.37      0.42        30\n",
            "weighted avg       1.00      0.73      0.85        30\n",
            "\n"
          ],
          "name": "stdout"
        },
        {
          "output_type": "stream",
          "text": [
            "/usr/local/lib/python3.6/dist-packages/sklearn/metrics/_classification.py:1272: UndefinedMetricWarning: Recall and F-score are ill-defined and being set to 0.0 in labels with no true samples. Use `zero_division` parameter to control this behavior.\n",
            "  _warn_prf(average, modifier, msg_start, len(result))\n"
          ],
          "name": "stderr"
        }
      ]
    }
  ]
}