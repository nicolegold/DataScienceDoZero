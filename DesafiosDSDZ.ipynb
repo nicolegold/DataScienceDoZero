{
  "nbformat": 4,
  "nbformat_minor": 0,
  "metadata": {
    "colab": {
      "name": "DesafiosDSDZ.ipynb",
      "provenance": [],
      "collapsed_sections": [],
      "authorship_tag": "ABX9TyO7p03RGIDTS2aQVL3K6PJp",
      "include_colab_link": true
    },
    "kernelspec": {
      "name": "python3",
      "display_name": "Python 3"
    }
  },
  "cells": [
    {
      "cell_type": "markdown",
      "metadata": {
        "id": "view-in-github",
        "colab_type": "text"
      },
      "source": [
        "<a href=\"https://colab.research.google.com/github/nicolegold/DataScienceDoZero/blob/master/DesafiosDSDZ.ipynb\" target=\"_parent\"><img src=\"https://colab.research.google.com/assets/colab-badge.svg\" alt=\"Open In Colab\"/></a>"
      ]
    },
    {
      "cell_type": "markdown",
      "metadata": {
        "id": "LqQzenvSwDmg",
        "colab_type": "text"
      },
      "source": [
        "# DESAFIOS DATA SCIENCE DO ZERO\n",
        "\n",
        "- Nicole Goldschmidt"
      ]
    },
    {
      "cell_type": "markdown",
      "metadata": {
        "id": "DvR6W6kXzUwF",
        "colab_type": "text"
      },
      "source": [
        "### AULA 1"
      ]
    },
    {
      "cell_type": "markdown",
      "metadata": {
        "id": "jXq60KiTvgdF",
        "colab_type": "text"
      },
      "source": [
        "Desafio Python"
      ]
    },
    {
      "cell_type": "code",
      "metadata": {
        "id": "FR8Gcx7kvB7V",
        "colab_type": "code",
        "colab": {}
      },
      "source": [
        "# Tendo como dados de entrada a altura de uma pessoa, construa um algoritmo que calcule seu peso ideal, usando a seguinte fórmula: (72.7*altura) - 58\n",
        "\n",
        "altura = float(input(\"Qual sua altura?\"))\n",
        "print(altura)\n",
        "\n",
        "pesoideal = (72.7 * altura) -58\n",
        "print(pesoideal)"
      ],
      "execution_count": 0,
      "outputs": []
    },
    {
      "cell_type": "markdown",
      "metadata": {
        "id": "YWSKygAGv3hQ",
        "colab_type": "text"
      },
      "source": [
        "DESAFIO CONDICIONAIS"
      ]
    },
    {
      "cell_type": "code",
      "metadata": {
        "id": "xJQhcdjAv6Hg",
        "colab_type": "code",
        "colab": {}
      },
      "source": [
        "# Faça um Programa que pergunte em que turno você estuda. Peça para digitar M-matutino ou V-Vespertino ou N- Noturno. Imprima a mensagem \"Bom Dia!\", \"Boa Tarde!\" ou \"Boa Noite!\" ou \"Valor Inválido!\", conforme o caso.\n",
        "Turno = str(input(\"Em que turno você estuda?\\n Digite M se matutino\\n Digite V se vespertino \\n Digite N se noturno \\n \"))\n",
        "print(Turno)\n",
        "\n",
        "if Turno == \"M\":\n",
        "  print(\"Bom Dia!\")\n",
        "elif Turno == \"V\":\n",
        "  print(\"Boa Tarde!\")\n",
        "elif Turno == \"N\":\n",
        "  print(\"Boa Noite!\")\n",
        "else:\n",
        "  print('Valor inválido!')"
      ],
      "execution_count": 0,
      "outputs": []
    },
    {
      "cell_type": "markdown",
      "metadata": {
        "id": "hhAiNUbHwoZl",
        "colab_type": "text"
      },
      "source": [
        "DESAFIO REPETIÇÃO"
      ]
    },
    {
      "cell_type": "code",
      "metadata": {
        "id": "I9EmtyFvwo4h",
        "colab_type": "code",
        "colab": {}
      },
      "source": [
        "# A série de Fibonacci é formada pela seqüência 1,1,2,3,5,8,13,21,34,55,... Faça um programa capaz de gerar a série até o n−ésimo termo.\n",
        "\n",
        "numero = int(input(\"Qual número você deseja receber a sequência Fibonacci?\\n\"))\n",
        "ultimo = 1\n",
        "penultimo = 1\n",
        "\n",
        "if (numero == 1) or (numero == 2):\n",
        "  print(\"1\")\n",
        "\n",
        "else:\n",
        "  count = 3 \n",
        "  while count <= numero:\n",
        "     sequencia = ultimo + penultimo\n",
        "     penultimo = ultimo\n",
        "     ultimo = sequencia\n",
        "     count += 1\n",
        "\n",
        "print(sequencia)\n"
      ],
      "execution_count": 0,
      "outputs": []
    },
    {
      "cell_type": "markdown",
      "metadata": {
        "id": "s5Y7xLiCye1B",
        "colab_type": "text"
      },
      "source": [
        "DESAFIO FUNÇÕES"
      ]
    },
    {
      "cell_type": "code",
      "metadata": {
        "id": "TS5LY2GQyfDr",
        "colab_type": "code",
        "colab": {}
      },
      "source": [
        "# Reverso do número. Faça uma função que retorne o reverso de um número inteiro informado. Por exemplo: 127 -> 721.\n",
        "\n",
        "def reverso(x):\n",
        "   return x[::-1]\n",
        "numero = input(\"Informe um numero:\\n\")\n",
        "reverso(numero) \n",
        "\n",
        "  "
      ],
      "execution_count": 0,
      "outputs": []
    },
    {
      "cell_type": "markdown",
      "metadata": {
        "id": "wXxPsfGkzd57",
        "colab_type": "text"
      },
      "source": [
        "### AULA 3"
      ]
    },
    {
      "cell_type": "markdown",
      "metadata": {
        "id": "JaTXFRcsATUI",
        "colab_type": "text"
      },
      "source": [
        "https://nicolegold.github.io/deploy-web/"
      ]
    }
  ]
}